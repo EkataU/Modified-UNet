{
 "cells": [
  {
   "cell_type": "code",
   "execution_count": 1,
   "id": "78ff67ff",
   "metadata": {
    "_cell_guid": "b1076dfc-b9ad-4769-8c92-a6c4dae69d19",
    "_uuid": "8f2839f25d086af736a60e9eeb907d3b93b6e0e5",
    "execution": {
     "iopub.execute_input": "2022-05-19T16:33:23.916595Z",
     "iopub.status.busy": "2022-05-19T16:33:23.915881Z",
     "iopub.status.idle": "2022-05-19T16:33:23.930069Z",
     "shell.execute_reply": "2022-05-19T16:33:23.929409Z"
    },
    "papermill": {
     "duration": 0.061825,
     "end_time": "2022-05-19T16:33:23.931594",
     "exception": false,
     "start_time": "2022-05-19T16:33:23.869769",
     "status": "completed"
    },
    "tags": []
   },
   "outputs": [
    {
     "name": "stdout",
     "output_type": "stream",
     "text": [
      "/kaggle/input/titanic/train.csv\n",
      "/kaggle/input/titanic/test.csv\n",
      "/kaggle/input/titanic/gender_submission.csv\n"
     ]
    }
   ],
   "source": [
    "# This Python 3 environment comes with many helpful analytics libraries installed\n",
    "# It is defined by the kaggle/python Docker image: https://github.com/kaggle/docker-python\n",
    "# For example, here's several helpful packages to load\n",
    "\n",
    "import numpy as np # linear algebra\n",
    "import pandas as pd # data processing, CSV file I/O (e.g. pd.read_csv)\n",
    "\n",
    "# Input data files are available in the read-only \"../input/\" directory\n",
    "# For example, running this (by clicking run or pressing Shift+Enter) will list all files under the input directory\n",
    "\n",
    "import os\n",
    "for dirname, _, filenames in os.walk('/kaggle/input'):\n",
    "    for filename in filenames:\n",
    "        print(os.path.join(dirname, filename))\n",
    "\n",
    "# You can write up to 20GB to the current directory (/kaggle/working/) that gets preserved as output when you create a version using \"Save & Run All\" \n",
    "# You can also write temporary files to /kaggle/temp/, but they won't be saved outside of the current session"
   ]
  },
  {
   "cell_type": "code",
   "execution_count": 2,
   "id": "ea51a1ab",
   "metadata": {
    "execution": {
     "iopub.execute_input": "2022-05-19T16:33:24.024703Z",
     "iopub.status.busy": "2022-05-19T16:33:24.024286Z",
     "iopub.status.idle": "2022-05-19T16:33:25.151407Z",
     "shell.execute_reply": "2022-05-19T16:33:25.150594Z"
    },
    "papermill": {
     "duration": 1.17707,
     "end_time": "2022-05-19T16:33:25.153759",
     "exception": false,
     "start_time": "2022-05-19T16:33:23.976689",
     "status": "completed"
    },
    "tags": []
   },
   "outputs": [],
   "source": [
    "# Import Library\n",
    "import random\n",
    "import warnings\n",
    "import seaborn as sns # statistical visualization\n",
    "import matplotlib.pyplot as plt #plot\n",
    "import scipy\n",
    "from scipy import stats\n",
    "from scipy.stats import norm, skew, boxcox\n",
    "from collections import Counter\n",
    "\n",
    "from sklearn.preprocessing import StandardScaler, MinMaxScaler,MaxAbsScaler,RobustScaler\n",
    "%matplotlib inline"
   ]
  },
  {
   "cell_type": "code",
   "execution_count": 3,
   "id": "7798b86e",
   "metadata": {
    "execution": {
     "iopub.execute_input": "2022-05-19T16:33:25.294368Z",
     "iopub.status.busy": "2022-05-19T16:33:25.293865Z",
     "iopub.status.idle": "2022-05-19T16:33:25.344424Z",
     "shell.execute_reply": "2022-05-19T16:33:25.343838Z"
    },
    "papermill": {
     "duration": 0.123624,
     "end_time": "2022-05-19T16:33:25.347013",
     "exception": false,
     "start_time": "2022-05-19T16:33:25.223389",
     "status": "completed"
    },
    "tags": []
   },
   "outputs": [
    {
     "data": {
      "text/html": [
       "<div>\n",
       "<style scoped>\n",
       "    .dataframe tbody tr th:only-of-type {\n",
       "        vertical-align: middle;\n",
       "    }\n",
       "\n",
       "    .dataframe tbody tr th {\n",
       "        vertical-align: top;\n",
       "    }\n",
       "\n",
       "    .dataframe thead th {\n",
       "        text-align: right;\n",
       "    }\n",
       "</style>\n",
       "<table border=\"1\" class=\"dataframe\">\n",
       "  <thead>\n",
       "    <tr style=\"text-align: right;\">\n",
       "      <th></th>\n",
       "      <th>PassengerId</th>\n",
       "      <th>Survived</th>\n",
       "      <th>Pclass</th>\n",
       "      <th>Name</th>\n",
       "      <th>Sex</th>\n",
       "      <th>Age</th>\n",
       "      <th>SibSp</th>\n",
       "      <th>Parch</th>\n",
       "      <th>Ticket</th>\n",
       "      <th>Fare</th>\n",
       "      <th>Cabin</th>\n",
       "      <th>Embarked</th>\n",
       "    </tr>\n",
       "  </thead>\n",
       "  <tbody>\n",
       "    <tr>\n",
       "      <th>0</th>\n",
       "      <td>1</td>\n",
       "      <td>0</td>\n",
       "      <td>3</td>\n",
       "      <td>Braund, Mr. Owen Harris</td>\n",
       "      <td>male</td>\n",
       "      <td>22.0</td>\n",
       "      <td>1</td>\n",
       "      <td>0</td>\n",
       "      <td>A/5 21171</td>\n",
       "      <td>7.2500</td>\n",
       "      <td>NaN</td>\n",
       "      <td>S</td>\n",
       "    </tr>\n",
       "    <tr>\n",
       "      <th>1</th>\n",
       "      <td>2</td>\n",
       "      <td>1</td>\n",
       "      <td>1</td>\n",
       "      <td>Cumings, Mrs. John Bradley (Florence Briggs Th...</td>\n",
       "      <td>female</td>\n",
       "      <td>38.0</td>\n",
       "      <td>1</td>\n",
       "      <td>0</td>\n",
       "      <td>PC 17599</td>\n",
       "      <td>71.2833</td>\n",
       "      <td>C85</td>\n",
       "      <td>C</td>\n",
       "    </tr>\n",
       "    <tr>\n",
       "      <th>2</th>\n",
       "      <td>3</td>\n",
       "      <td>1</td>\n",
       "      <td>3</td>\n",
       "      <td>Heikkinen, Miss. Laina</td>\n",
       "      <td>female</td>\n",
       "      <td>26.0</td>\n",
       "      <td>0</td>\n",
       "      <td>0</td>\n",
       "      <td>STON/O2. 3101282</td>\n",
       "      <td>7.9250</td>\n",
       "      <td>NaN</td>\n",
       "      <td>S</td>\n",
       "    </tr>\n",
       "    <tr>\n",
       "      <th>3</th>\n",
       "      <td>4</td>\n",
       "      <td>1</td>\n",
       "      <td>1</td>\n",
       "      <td>Futrelle, Mrs. Jacques Heath (Lily May Peel)</td>\n",
       "      <td>female</td>\n",
       "      <td>35.0</td>\n",
       "      <td>1</td>\n",
       "      <td>0</td>\n",
       "      <td>113803</td>\n",
       "      <td>53.1000</td>\n",
       "      <td>C123</td>\n",
       "      <td>S</td>\n",
       "    </tr>\n",
       "    <tr>\n",
       "      <th>4</th>\n",
       "      <td>5</td>\n",
       "      <td>0</td>\n",
       "      <td>3</td>\n",
       "      <td>Allen, Mr. William Henry</td>\n",
       "      <td>male</td>\n",
       "      <td>35.0</td>\n",
       "      <td>0</td>\n",
       "      <td>0</td>\n",
       "      <td>373450</td>\n",
       "      <td>8.0500</td>\n",
       "      <td>NaN</td>\n",
       "      <td>S</td>\n",
       "    </tr>\n",
       "  </tbody>\n",
       "</table>\n",
       "</div>"
      ],
      "text/plain": [
       "   PassengerId  Survived  Pclass  \\\n",
       "0            1         0       3   \n",
       "1            2         1       1   \n",
       "2            3         1       3   \n",
       "3            4         1       1   \n",
       "4            5         0       3   \n",
       "\n",
       "                                                Name     Sex   Age  SibSp  \\\n",
       "0                            Braund, Mr. Owen Harris    male  22.0      1   \n",
       "1  Cumings, Mrs. John Bradley (Florence Briggs Th...  female  38.0      1   \n",
       "2                             Heikkinen, Miss. Laina  female  26.0      0   \n",
       "3       Futrelle, Mrs. Jacques Heath (Lily May Peel)  female  35.0      1   \n",
       "4                           Allen, Mr. William Henry    male  35.0      0   \n",
       "\n",
       "   Parch            Ticket     Fare Cabin Embarked  \n",
       "0      0         A/5 21171   7.2500   NaN        S  \n",
       "1      0          PC 17599  71.2833   C85        C  \n",
       "2      0  STON/O2. 3101282   7.9250   NaN        S  \n",
       "3      0            113803  53.1000  C123        S  \n",
       "4      0            373450   8.0500   NaN        S  "
      ]
     },
     "execution_count": 3,
     "metadata": {},
     "output_type": "execute_result"
    }
   ],
   "source": [
    "# Load data\n",
    "Train_Path = \"../input/titanic/train.csv\"\n",
    "Test_Path = \"../input/titanic/test.csv\"\n",
    "titanic_train = pd.read_csv(Train_Path).sort_values(by=\"PassengerId\")\n",
    "titanic_test = pd.read_csv(Test_Path).sort_values(by=\"PassengerId\")\n",
    "titanic_train.head()"
   ]
  },
  {
   "cell_type": "code",
   "execution_count": 4,
   "id": "cc8ebbc3",
   "metadata": {
    "execution": {
     "iopub.execute_input": "2022-05-19T16:33:25.489474Z",
     "iopub.status.busy": "2022-05-19T16:33:25.489107Z",
     "iopub.status.idle": "2022-05-19T16:33:25.503877Z",
     "shell.execute_reply": "2022-05-19T16:33:25.503360Z"
    },
    "papermill": {
     "duration": 0.087512,
     "end_time": "2022-05-19T16:33:25.505323",
     "exception": false,
     "start_time": "2022-05-19T16:33:25.417811",
     "status": "completed"
    },
    "tags": []
   },
   "outputs": [
    {
     "data": {
      "text/html": [
       "<div>\n",
       "<style scoped>\n",
       "    .dataframe tbody tr th:only-of-type {\n",
       "        vertical-align: middle;\n",
       "    }\n",
       "\n",
       "    .dataframe tbody tr th {\n",
       "        vertical-align: top;\n",
       "    }\n",
       "\n",
       "    .dataframe thead th {\n",
       "        text-align: right;\n",
       "    }\n",
       "</style>\n",
       "<table border=\"1\" class=\"dataframe\">\n",
       "  <thead>\n",
       "    <tr style=\"text-align: right;\">\n",
       "      <th></th>\n",
       "      <th>PassengerId</th>\n",
       "      <th>Pclass</th>\n",
       "      <th>Name</th>\n",
       "      <th>Sex</th>\n",
       "      <th>Age</th>\n",
       "      <th>SibSp</th>\n",
       "      <th>Parch</th>\n",
       "      <th>Ticket</th>\n",
       "      <th>Fare</th>\n",
       "      <th>Cabin</th>\n",
       "      <th>Embarked</th>\n",
       "    </tr>\n",
       "  </thead>\n",
       "  <tbody>\n",
       "    <tr>\n",
       "      <th>0</th>\n",
       "      <td>892</td>\n",
       "      <td>3</td>\n",
       "      <td>Kelly, Mr. James</td>\n",
       "      <td>male</td>\n",
       "      <td>34.5</td>\n",
       "      <td>0</td>\n",
       "      <td>0</td>\n",
       "      <td>330911</td>\n",
       "      <td>7.8292</td>\n",
       "      <td>NaN</td>\n",
       "      <td>Q</td>\n",
       "    </tr>\n",
       "    <tr>\n",
       "      <th>1</th>\n",
       "      <td>893</td>\n",
       "      <td>3</td>\n",
       "      <td>Wilkes, Mrs. James (Ellen Needs)</td>\n",
       "      <td>female</td>\n",
       "      <td>47.0</td>\n",
       "      <td>1</td>\n",
       "      <td>0</td>\n",
       "      <td>363272</td>\n",
       "      <td>7.0000</td>\n",
       "      <td>NaN</td>\n",
       "      <td>S</td>\n",
       "    </tr>\n",
       "    <tr>\n",
       "      <th>2</th>\n",
       "      <td>894</td>\n",
       "      <td>2</td>\n",
       "      <td>Myles, Mr. Thomas Francis</td>\n",
       "      <td>male</td>\n",
       "      <td>62.0</td>\n",
       "      <td>0</td>\n",
       "      <td>0</td>\n",
       "      <td>240276</td>\n",
       "      <td>9.6875</td>\n",
       "      <td>NaN</td>\n",
       "      <td>Q</td>\n",
       "    </tr>\n",
       "    <tr>\n",
       "      <th>3</th>\n",
       "      <td>895</td>\n",
       "      <td>3</td>\n",
       "      <td>Wirz, Mr. Albert</td>\n",
       "      <td>male</td>\n",
       "      <td>27.0</td>\n",
       "      <td>0</td>\n",
       "      <td>0</td>\n",
       "      <td>315154</td>\n",
       "      <td>8.6625</td>\n",
       "      <td>NaN</td>\n",
       "      <td>S</td>\n",
       "    </tr>\n",
       "    <tr>\n",
       "      <th>4</th>\n",
       "      <td>896</td>\n",
       "      <td>3</td>\n",
       "      <td>Hirvonen, Mrs. Alexander (Helga E Lindqvist)</td>\n",
       "      <td>female</td>\n",
       "      <td>22.0</td>\n",
       "      <td>1</td>\n",
       "      <td>1</td>\n",
       "      <td>3101298</td>\n",
       "      <td>12.2875</td>\n",
       "      <td>NaN</td>\n",
       "      <td>S</td>\n",
       "    </tr>\n",
       "  </tbody>\n",
       "</table>\n",
       "</div>"
      ],
      "text/plain": [
       "   PassengerId  Pclass                                          Name     Sex  \\\n",
       "0          892       3                              Kelly, Mr. James    male   \n",
       "1          893       3              Wilkes, Mrs. James (Ellen Needs)  female   \n",
       "2          894       2                     Myles, Mr. Thomas Francis    male   \n",
       "3          895       3                              Wirz, Mr. Albert    male   \n",
       "4          896       3  Hirvonen, Mrs. Alexander (Helga E Lindqvist)  female   \n",
       "\n",
       "    Age  SibSp  Parch   Ticket     Fare Cabin Embarked  \n",
       "0  34.5      0      0   330911   7.8292   NaN        Q  \n",
       "1  47.0      1      0   363272   7.0000   NaN        S  \n",
       "2  62.0      0      0   240276   9.6875   NaN        Q  \n",
       "3  27.0      0      0   315154   8.6625   NaN        S  \n",
       "4  22.0      1      1  3101298  12.2875   NaN        S  "
      ]
     },
     "execution_count": 4,
     "metadata": {},
     "output_type": "execute_result"
    }
   ],
   "source": [
    "titanic_test.head()"
   ]
  },
  {
   "cell_type": "code",
   "execution_count": 5,
   "id": "8d93e9a4",
   "metadata": {
    "execution": {
     "iopub.execute_input": "2022-05-19T16:33:25.599719Z",
     "iopub.status.busy": "2022-05-19T16:33:25.599371Z",
     "iopub.status.idle": "2022-05-19T16:33:25.604133Z",
     "shell.execute_reply": "2022-05-19T16:33:25.603741Z"
    },
    "papermill": {
     "duration": 0.05334,
     "end_time": "2022-05-19T16:33:25.605443",
     "exception": false,
     "start_time": "2022-05-19T16:33:25.552103",
     "status": "completed"
    },
    "tags": []
   },
   "outputs": [
    {
     "data": {
      "text/plain": [
       "Index(['PassengerId', 'Pclass', 'Name', 'Sex', 'Age', 'SibSp', 'Parch',\n",
       "       'Ticket', 'Fare', 'Cabin', 'Embarked'],\n",
       "      dtype='object')"
      ]
     },
     "execution_count": 5,
     "metadata": {},
     "output_type": "execute_result"
    }
   ],
   "source": [
    "titanic_test.columns"
   ]
  },
  {
   "cell_type": "code",
   "execution_count": 6,
   "id": "811b4c07",
   "metadata": {
    "execution": {
     "iopub.execute_input": "2022-05-19T16:33:25.702639Z",
     "iopub.status.busy": "2022-05-19T16:33:25.702376Z",
     "iopub.status.idle": "2022-05-19T16:33:25.707139Z",
     "shell.execute_reply": "2022-05-19T16:33:25.706376Z"
    },
    "papermill": {
     "duration": 0.05569,
     "end_time": "2022-05-19T16:33:25.709048",
     "exception": false,
     "start_time": "2022-05-19T16:33:25.653358",
     "status": "completed"
    },
    "tags": []
   },
   "outputs": [
    {
     "name": "stdout",
     "output_type": "stream",
     "text": [
      "Train_dataset Shape: (891, 12)\n",
      "Test_dataset Shape: (418, 11)\n"
     ]
    }
   ],
   "source": [
    "print(\"Train_dataset Shape:\",titanic_train.shape)\n",
    "\n",
    "print(\"Test_dataset Shape:\",titanic_test.shape)"
   ]
  },
  {
   "cell_type": "code",
   "execution_count": 7,
   "id": "7a0cad03",
   "metadata": {
    "execution": {
     "iopub.execute_input": "2022-05-19T16:33:25.855673Z",
     "iopub.status.busy": "2022-05-19T16:33:25.855280Z",
     "iopub.status.idle": "2022-05-19T16:33:25.864278Z",
     "shell.execute_reply": "2022-05-19T16:33:25.863708Z"
    },
    "papermill": {
     "duration": 0.08417,
     "end_time": "2022-05-19T16:33:25.866073",
     "exception": false,
     "start_time": "2022-05-19T16:33:25.781903",
     "status": "completed"
    },
    "tags": []
   },
   "outputs": [
    {
     "name": "stdout",
     "output_type": "stream",
     "text": [
      "% of women who survived: 0.7420382165605095\n",
      "% of men who survived: 0.18890814558058924\n"
     ]
    }
   ],
   "source": [
    "women = titanic_train.loc[titanic_train.Sex == 'female'][\"Survived\"]\n",
    "rate_women = sum(women)/len(women)\n",
    "men = titanic_train.loc[titanic_train.Sex == 'male'][\"Survived\"]\n",
    "rate_men = sum(men)/len(men)\n",
    "print(\"% of women who survived:\", rate_women)\n",
    "print(\"% of men who survived:\", rate_men)\n"
   ]
  },
  {
   "cell_type": "markdown",
   "id": "e946b169",
   "metadata": {
    "papermill": {
     "duration": 0.047008,
     "end_time": "2022-05-19T16:33:25.959827",
     "exception": false,
     "start_time": "2022-05-19T16:33:25.912819",
     "status": "completed"
    },
    "tags": []
   },
   "source": [
    "## Seed Function"
   ]
  },
  {
   "cell_type": "markdown",
   "id": "6e43f3b2",
   "metadata": {
    "papermill": {
     "duration": 0.046249,
     "end_time": "2022-05-19T16:33:26.052146",
     "exception": false,
     "start_time": "2022-05-19T16:33:26.005897",
     "status": "completed"
    },
    "tags": []
   },
   "source": [
    "** It is used to save the state of a random function, so that it can generate same random numbers on multiple executions of the code on the same machine or on different machines (for a specific seed value). The seed value is the previous value number generated by the generator. For the first time when there is no previous value, it uses current system time.\n",
    "** random() function is used to generate random numbers in Python. Not actually random, rather this is used to generate pseudo-random numbers. That implies that these randomly generated numbers can be determined.\n",
    "\n",
    "> random() function generates numbers for some values. This value is also called seed value.\n",
    "\n",
    ">  random module is imported\n",
    "import random \n",
    "for i in range(2):\n",
    "  \n",
    "    # Any number can be used in place of '0'.\n",
    "    random.seed(0)\n",
    "  \n",
    "    # Generated random number will be between 1 to 1000.\n",
    "    print(random.randint(1, 1000))  \n",
    "> 200\n",
    "> 200\n",
    "\n",
    "\n",
    "******************************************************\n",
    "import random \n",
    "random.seed(2)\n",
    "print(random.randint(1, 1000))\n",
    "print(random.randint(1, 1000))\n",
    "> 244\n",
    "> 144\n",
    "\n",
    "** To keep the reproducibility same  we will use SEED = 2022\n",
    "\n",
    "    os.environ['PYTHONHASHSEED'] = str(seed)\n",
    "    "
   ]
  },
  {
   "cell_type": "markdown",
   "id": "fb4cea46",
   "metadata": {
    "papermill": {
     "duration": 0.046296,
     "end_time": "2022-05-19T16:33:26.145391",
     "exception": false,
     "start_time": "2022-05-19T16:33:26.099095",
     "status": "completed"
    },
    "tags": []
   },
   "source": [
    "## Use of Seed function\n"
   ]
  },
  {
   "cell_type": "code",
   "execution_count": 8,
   "id": "b06d8621",
   "metadata": {
    "execution": {
     "iopub.execute_input": "2022-05-19T16:33:26.241229Z",
     "iopub.status.busy": "2022-05-19T16:33:26.240745Z",
     "iopub.status.idle": "2022-05-19T16:33:26.245205Z",
     "shell.execute_reply": "2022-05-19T16:33:26.244726Z"
    },
    "papermill": {
     "duration": 0.053992,
     "end_time": "2022-05-19T16:33:26.246531",
     "exception": false,
     "start_time": "2022-05-19T16:33:26.192539",
     "status": "completed"
    },
    "tags": []
   },
   "outputs": [],
   "source": [
    "Set_seed = 2\n",
    "def seed_all(seed=Set_seed):\n",
    "    random.seed(seed)\n",
    "    os.environ['PYTHONHASHSEED'] = str(seed) # keep reproducibility same\n",
    "    np.random.seed(seed)\n",
    "\n",
    "seed_all()"
   ]
  },
  {
   "cell_type": "markdown",
   "id": "1568c49e",
   "metadata": {
    "papermill": {
     "duration": 0.046816,
     "end_time": "2022-05-19T16:33:26.339609",
     "exception": false,
     "start_time": "2022-05-19T16:33:26.292793",
     "status": "completed"
    },
    "tags": []
   },
   "source": [
    "## Histogram : Check for Independent, dependent  and Redundant variable\n",
    "**Pre-Process check**"
   ]
  },
  {
   "cell_type": "code",
   "execution_count": 9,
   "id": "cc155fd3",
   "metadata": {
    "execution": {
     "iopub.execute_input": "2022-05-19T16:33:26.432080Z",
     "iopub.status.busy": "2022-05-19T16:33:26.431713Z",
     "iopub.status.idle": "2022-05-19T16:33:26.437248Z",
     "shell.execute_reply": "2022-05-19T16:33:26.436776Z"
    },
    "papermill": {
     "duration": 0.053703,
     "end_time": "2022-05-19T16:33:26.438581",
     "exception": false,
     "start_time": "2022-05-19T16:33:26.384878",
     "status": "completed"
    },
    "tags": []
   },
   "outputs": [],
   "source": [
    "def plot_hist(df,variable):\n",
    "    print(\"min {} : {} \".format(variable, min(df[variable])))\n",
    "    print(\"max {} : {}\".format(variable, max(df[variable])))\n",
    "    \n",
    "    plt.figure(figsize=(6,2))\n",
    "    plt.hist(df[variable])\n",
    "    plt.xlabel(variable)\n",
    "    plt.ylabel(\"Frequency\")\n",
    "    plt.title(\"{} distribution with hist \".format(variable))\n",
    "    plt.show()"
   ]
  },
  {
   "cell_type": "code",
   "execution_count": 10,
   "id": "c9121f5b",
   "metadata": {
    "execution": {
     "iopub.execute_input": "2022-05-19T16:33:26.533106Z",
     "iopub.status.busy": "2022-05-19T16:33:26.532758Z",
     "iopub.status.idle": "2022-05-19T16:33:27.199878Z",
     "shell.execute_reply": "2022-05-19T16:33:27.199374Z"
    },
    "papermill": {
     "duration": 0.71593,
     "end_time": "2022-05-19T16:33:27.201501",
     "exception": false,
     "start_time": "2022-05-19T16:33:26.485571",
     "status": "completed"
    },
    "tags": []
   },
   "outputs": [
    {
     "name": "stdout",
     "output_type": "stream",
     "text": [
      "min Pclass : 1 \n",
      "max Pclass : 3\n"
     ]
    },
    {
     "data": {
      "image/png": "[encoded data removed]",
      "text/plain": [
       "<Figure size 432x144 with 1 Axes>"
      ]
     },
     "metadata": {
      "needs_background": "light"
     },
     "output_type": "display_data"
    },
    {
     "name": "stdout",
     "output_type": "stream",
     "text": [
      "min Age : 0.42 \n",
      "max Age : 80.0\n"
     ]
    },
    {
     "data": {
      "image/png": "[encoded data removed]",
      "text/plain": [
       "<Figure size 432x144 with 1 Axes>"
      ]
     },
     "metadata": {
      "needs_background": "light"
     },
     "output_type": "display_data"
    },
    {
     "name": "stdout",
     "output_type": "stream",
     "text": [
      "min SibSp : 0 \n",
      "max SibSp : 8\n"
     ]
    },
    {
     "data": {
      "image/png": "[encoded data removed]",
      "text/plain": [
       "<Figure size 432x144 with 1 Axes>"
      ]
     },
     "metadata": {
      "needs_background": "light"
     },
     "output_type": "display_data"
    },
    {
     "name": "stdout",
     "output_type": "stream",
     "text": [
      "min Parch : 0 \n",
      "max Parch : 6\n"
     ]
    },
    {
     "data": {
      "image/png": "[encoded data removed]",
      "text/plain": [
       "<Figure size 432x144 with 1 Axes>"
      ]
     },
     "metadata": {
      "needs_background": "light"
     },
     "output_type": "display_data"
    },
    {
     "name": "stdout",
     "output_type": "stream",
     "text": [
      "min Fare : 0.0 \n",
      "max Fare : 512.3292\n"
     ]
    },
    {
     "data": {
      "image/png": "[encoded data removed]",
      "text/plain": [
       "<Figure size 432x144 with 1 Axes>"
      ]
     },
     "metadata": {
      "needs_background": "light"
     },
     "output_type": "display_data"
    }
   ],
   "source": [
    "\n",
    "train = pd.read_csv(Train_Path)\n",
    "\n",
    "str_list = [] \n",
    "num_list = []\n",
    "float_list = []\n",
    "for colname, colvalue in train.iteritems():\n",
    "    if colname == \"PassengerId\" or colname == \"Survived\":\n",
    "        continue\n",
    "\n",
    "    if type(colvalue[1]) == str:\n",
    "        str_list.append(colname)\n",
    "    else:\n",
    "        num_list.append(colname)\n",
    "    \n",
    "for col in num_list:\n",
    "   \n",
    "    plot_hist(titanic_train,col)"
   ]
  },
  {
   "cell_type": "code",
   "execution_count": 11,
   "id": "34b9f8ab",
   "metadata": {
    "execution": {
     "iopub.execute_input": "2022-05-19T16:33:27.313475Z",
     "iopub.status.busy": "2022-05-19T16:33:27.313252Z",
     "iopub.status.idle": "2022-05-19T16:33:27.361381Z",
     "shell.execute_reply": "2022-05-19T16:33:27.360659Z"
    },
    "papermill": {
     "duration": 0.106093,
     "end_time": "2022-05-19T16:33:27.363751",
     "exception": false,
     "start_time": "2022-05-19T16:33:27.257658",
     "status": "completed"
    },
    "tags": []
   },
   "outputs": [
    {
     "name": "stderr",
     "output_type": "stream",
     "text": [
      "/opt/conda/lib/python3.7/site-packages/ipykernel_launcher.py:2: FutureWarning: Dropping of nuisance columns in DataFrame reductions (with 'numeric_only=None') is deprecated; in a future version this will raise TypeError.  Select only valid columns before calling the reduction.\n",
      "  \n",
      "/opt/conda/lib/python3.7/site-packages/ipykernel_launcher.py:3: FutureWarning: Dropping of nuisance columns in DataFrame reductions (with 'numeric_only=None') is deprecated; in a future version this will raise TypeError.  Select only valid columns before calling the reduction.\n",
      "  This is separate from the ipykernel package so we can avoid doing imports until\n",
      "/opt/conda/lib/python3.7/site-packages/ipykernel_launcher.py:4: FutureWarning: Dropping of nuisance columns in DataFrame reductions (with 'numeric_only=None') is deprecated; in a future version this will raise TypeError.  Select only valid columns before calling the reduction.\n",
      "  after removing the cwd from sys.path.\n"
     ]
    },
    {
     "data": {
      "text/html": [
       "<div>\n",
       "<style scoped>\n",
       "    .dataframe tbody tr th:only-of-type {\n",
       "        vertical-align: middle;\n",
       "    }\n",
       "\n",
       "    .dataframe tbody tr th {\n",
       "        vertical-align: top;\n",
       "    }\n",
       "\n",
       "    .dataframe thead th {\n",
       "        text-align: right;\n",
       "    }\n",
       "</style>\n",
       "<table border=\"1\" class=\"dataframe\">\n",
       "  <thead>\n",
       "    <tr style=\"text-align: right;\">\n",
       "      <th></th>\n",
       "      <th>PassengerId</th>\n",
       "      <th>Survived</th>\n",
       "      <th>Pclass</th>\n",
       "      <th>Age</th>\n",
       "      <th>SibSp</th>\n",
       "      <th>Parch</th>\n",
       "      <th>Fare</th>\n",
       "    </tr>\n",
       "  </thead>\n",
       "  <tbody>\n",
       "    <tr>\n",
       "      <th>count</th>\n",
       "      <td>891.000000</td>\n",
       "      <td>891.000000</td>\n",
       "      <td>891.000000</td>\n",
       "      <td>714.000000</td>\n",
       "      <td>891.000000</td>\n",
       "      <td>891.000000</td>\n",
       "      <td>891.000000</td>\n",
       "    </tr>\n",
       "    <tr>\n",
       "      <th>mean</th>\n",
       "      <td>446.000000</td>\n",
       "      <td>0.383838</td>\n",
       "      <td>2.308642</td>\n",
       "      <td>29.699118</td>\n",
       "      <td>0.523008</td>\n",
       "      <td>0.381594</td>\n",
       "      <td>32.204208</td>\n",
       "    </tr>\n",
       "    <tr>\n",
       "      <th>std</th>\n",
       "      <td>257.353842</td>\n",
       "      <td>0.486592</td>\n",
       "      <td>0.836071</td>\n",
       "      <td>14.526497</td>\n",
       "      <td>1.102743</td>\n",
       "      <td>0.806057</td>\n",
       "      <td>49.693429</td>\n",
       "    </tr>\n",
       "    <tr>\n",
       "      <th>min</th>\n",
       "      <td>1.000000</td>\n",
       "      <td>0.000000</td>\n",
       "      <td>1.000000</td>\n",
       "      <td>0.420000</td>\n",
       "      <td>0.000000</td>\n",
       "      <td>0.000000</td>\n",
       "      <td>0.000000</td>\n",
       "    </tr>\n",
       "    <tr>\n",
       "      <th>25%</th>\n",
       "      <td>223.500000</td>\n",
       "      <td>0.000000</td>\n",
       "      <td>2.000000</td>\n",
       "      <td>20.125000</td>\n",
       "      <td>0.000000</td>\n",
       "      <td>0.000000</td>\n",
       "      <td>7.910400</td>\n",
       "    </tr>\n",
       "    <tr>\n",
       "      <th>50%</th>\n",
       "      <td>446.000000</td>\n",
       "      <td>0.000000</td>\n",
       "      <td>3.000000</td>\n",
       "      <td>28.000000</td>\n",
       "      <td>0.000000</td>\n",
       "      <td>0.000000</td>\n",
       "      <td>14.454200</td>\n",
       "    </tr>\n",
       "    <tr>\n",
       "      <th>75%</th>\n",
       "      <td>668.500000</td>\n",
       "      <td>1.000000</td>\n",
       "      <td>3.000000</td>\n",
       "      <td>38.000000</td>\n",
       "      <td>1.000000</td>\n",
       "      <td>0.000000</td>\n",
       "      <td>31.000000</td>\n",
       "    </tr>\n",
       "    <tr>\n",
       "      <th>max</th>\n",
       "      <td>891.000000</td>\n",
       "      <td>1.000000</td>\n",
       "      <td>3.000000</td>\n",
       "      <td>80.000000</td>\n",
       "      <td>8.000000</td>\n",
       "      <td>6.000000</td>\n",
       "      <td>512.329200</td>\n",
       "    </tr>\n",
       "    <tr>\n",
       "      <th>var</th>\n",
       "      <td>66231.000000</td>\n",
       "      <td>0.236772</td>\n",
       "      <td>0.699015</td>\n",
       "      <td>211.019125</td>\n",
       "      <td>1.216043</td>\n",
       "      <td>0.649728</td>\n",
       "      <td>2469.436846</td>\n",
       "    </tr>\n",
       "    <tr>\n",
       "      <th>skew</th>\n",
       "      <td>0.000000</td>\n",
       "      <td>0.478523</td>\n",
       "      <td>-0.630548</td>\n",
       "      <td>0.389108</td>\n",
       "      <td>3.695352</td>\n",
       "      <td>2.749117</td>\n",
       "      <td>4.787317</td>\n",
       "    </tr>\n",
       "    <tr>\n",
       "      <th>kurt</th>\n",
       "      <td>-1.200000</td>\n",
       "      <td>-1.775005</td>\n",
       "      <td>-1.280015</td>\n",
       "      <td>0.178274</td>\n",
       "      <td>17.880420</td>\n",
       "      <td>9.778125</td>\n",
       "      <td>33.398141</td>\n",
       "    </tr>\n",
       "  </tbody>\n",
       "</table>\n",
       "</div>"
      ],
      "text/plain": [
       "        PassengerId    Survived      Pclass         Age       SibSp  \\\n",
       "count    891.000000  891.000000  891.000000  714.000000  891.000000   \n",
       "mean     446.000000    0.383838    2.308642   29.699118    0.523008   \n",
       "std      257.353842    0.486592    0.836071   14.526497    1.102743   \n",
       "min        1.000000    0.000000    1.000000    0.420000    0.000000   \n",
       "25%      223.500000    0.000000    2.000000   20.125000    0.000000   \n",
       "50%      446.000000    0.000000    3.000000   28.000000    0.000000   \n",
       "75%      668.500000    1.000000    3.000000   38.000000    1.000000   \n",
       "max      891.000000    1.000000    3.000000   80.000000    8.000000   \n",
       "var    66231.000000    0.236772    0.699015  211.019125    1.216043   \n",
       "skew       0.000000    0.478523   -0.630548    0.389108    3.695352   \n",
       "kurt      -1.200000   -1.775005   -1.280015    0.178274   17.880420   \n",
       "\n",
       "            Parch         Fare  \n",
       "count  891.000000   891.000000  \n",
       "mean     0.381594    32.204208  \n",
       "std      0.806057    49.693429  \n",
       "min      0.000000     0.000000  \n",
       "25%      0.000000     7.910400  \n",
       "50%      0.000000    14.454200  \n",
       "75%      0.000000    31.000000  \n",
       "max      6.000000   512.329200  \n",
       "var      0.649728  2469.436846  \n",
       "skew     2.749117     4.787317  \n",
       "kurt     9.778125    33.398141  "
      ]
     },
     "execution_count": 11,
     "metadata": {},
     "output_type": "execute_result"
    }
   ],
   "source": [
    "stat_out = titanic_train.describe()\n",
    "stat_out.loc['var'] = titanic_train.var().tolist()\n",
    "stat_out.loc['skew'] = titanic_train.skew().tolist()\n",
    "stat_out.loc['kurt'] = titanic_train.kurtosis().tolist()\n",
    "stat_out"
   ]
  },
  {
   "cell_type": "markdown",
   "id": "7691c6b1",
   "metadata": {
    "papermill": {
     "duration": 0.080556,
     "end_time": "2022-05-19T16:33:27.524864",
     "exception": false,
     "start_time": "2022-05-19T16:33:27.444308",
     "status": "completed"
    },
    "tags": []
   },
   "source": [
    "## Data Pre-Process\n"
   ]
  },
  {
   "cell_type": "code",
   "execution_count": 12,
   "id": "0cc34a07",
   "metadata": {
    "execution": {
     "iopub.execute_input": "2022-05-19T16:33:27.688767Z",
     "iopub.status.busy": "2022-05-19T16:33:27.688496Z",
     "iopub.status.idle": "2022-05-19T16:33:27.704904Z",
     "shell.execute_reply": "2022-05-19T16:33:27.704269Z"
    },
    "papermill": {
     "duration": 0.100328,
     "end_time": "2022-05-19T16:33:27.706770",
     "exception": false,
     "start_time": "2022-05-19T16:33:27.606442",
     "status": "completed"
    },
    "tags": []
   },
   "outputs": [
    {
     "data": {
      "text/html": [
       "<div>\n",
       "<style scoped>\n",
       "    .dataframe tbody tr th:only-of-type {\n",
       "        vertical-align: middle;\n",
       "    }\n",
       "\n",
       "    .dataframe tbody tr th {\n",
       "        vertical-align: top;\n",
       "    }\n",
       "\n",
       "    .dataframe thead th {\n",
       "        text-align: right;\n",
       "    }\n",
       "</style>\n",
       "<table border=\"1\" class=\"dataframe\">\n",
       "  <thead>\n",
       "    <tr style=\"text-align: right;\">\n",
       "      <th></th>\n",
       "      <th>PassengerId</th>\n",
       "      <th>Survived</th>\n",
       "      <th>Pclass</th>\n",
       "      <th>Sex</th>\n",
       "      <th>Age</th>\n",
       "      <th>SibSp</th>\n",
       "      <th>Parch</th>\n",
       "      <th>Fare</th>\n",
       "      <th>Embarked</th>\n",
       "    </tr>\n",
       "  </thead>\n",
       "  <tbody>\n",
       "    <tr>\n",
       "      <th>0</th>\n",
       "      <td>1</td>\n",
       "      <td>0</td>\n",
       "      <td>3</td>\n",
       "      <td>male</td>\n",
       "      <td>22.0</td>\n",
       "      <td>1</td>\n",
       "      <td>0</td>\n",
       "      <td>7.2500</td>\n",
       "      <td>S</td>\n",
       "    </tr>\n",
       "    <tr>\n",
       "      <th>1</th>\n",
       "      <td>2</td>\n",
       "      <td>1</td>\n",
       "      <td>1</td>\n",
       "      <td>female</td>\n",
       "      <td>38.0</td>\n",
       "      <td>1</td>\n",
       "      <td>0</td>\n",
       "      <td>71.2833</td>\n",
       "      <td>C</td>\n",
       "    </tr>\n",
       "    <tr>\n",
       "      <th>2</th>\n",
       "      <td>3</td>\n",
       "      <td>1</td>\n",
       "      <td>3</td>\n",
       "      <td>female</td>\n",
       "      <td>26.0</td>\n",
       "      <td>0</td>\n",
       "      <td>0</td>\n",
       "      <td>7.9250</td>\n",
       "      <td>S</td>\n",
       "    </tr>\n",
       "    <tr>\n",
       "      <th>3</th>\n",
       "      <td>4</td>\n",
       "      <td>1</td>\n",
       "      <td>1</td>\n",
       "      <td>female</td>\n",
       "      <td>35.0</td>\n",
       "      <td>1</td>\n",
       "      <td>0</td>\n",
       "      <td>53.1000</td>\n",
       "      <td>S</td>\n",
       "    </tr>\n",
       "    <tr>\n",
       "      <th>4</th>\n",
       "      <td>5</td>\n",
       "      <td>0</td>\n",
       "      <td>3</td>\n",
       "      <td>male</td>\n",
       "      <td>35.0</td>\n",
       "      <td>0</td>\n",
       "      <td>0</td>\n",
       "      <td>8.0500</td>\n",
       "      <td>S</td>\n",
       "    </tr>\n",
       "  </tbody>\n",
       "</table>\n",
       "</div>"
      ],
      "text/plain": [
       "   PassengerId  Survived  Pclass     Sex   Age  SibSp  Parch     Fare Embarked\n",
       "0            1         0       3    male  22.0      1      0   7.2500        S\n",
       "1            2         1       1  female  38.0      1      0  71.2833        C\n",
       "2            3         1       3  female  26.0      0      0   7.9250        S\n",
       "3            4         1       1  female  35.0      1      0  53.1000        S\n",
       "4            5         0       3    male  35.0      0      0   8.0500        S"
      ]
     },
     "execution_count": 12,
     "metadata": {},
     "output_type": "execute_result"
    }
   ],
   "source": [
    "# Delete columns\n",
    "titanic_train.drop(labels=[\"Ticket\", \"Cabin\",\"Name\"], axis=1, inplace=True)\n",
    "titanic_test.drop(labels=[\"Ticket\", \"Cabin\",\"Name\"], axis=1, inplace=True)\n",
    "titanic_train.head(5)"
   ]
  },
  {
   "cell_type": "code",
   "execution_count": 13,
   "id": "6036b3bb",
   "metadata": {
    "execution": {
     "iopub.execute_input": "2022-05-19T16:33:27.874730Z",
     "iopub.status.busy": "2022-05-19T16:33:27.874459Z",
     "iopub.status.idle": "2022-05-19T16:33:27.881914Z",
     "shell.execute_reply": "2022-05-19T16:33:27.881252Z"
    },
    "papermill": {
     "duration": 0.093049,
     "end_time": "2022-05-19T16:33:27.884006",
     "exception": false,
     "start_time": "2022-05-19T16:33:27.790957",
     "status": "completed"
    },
    "tags": []
   },
   "outputs": [
    {
     "data": {
      "text/plain": [
       "PassengerId      0\n",
       "Survived         0\n",
       "Pclass           0\n",
       "Sex              0\n",
       "Age            177\n",
       "SibSp            0\n",
       "Parch            0\n",
       "Fare             0\n",
       "Embarked         2\n",
       "dtype: int64"
      ]
     },
     "execution_count": 13,
     "metadata": {},
     "output_type": "execute_result"
    }
   ],
   "source": [
    "titanic_train.isnull().sum()"
   ]
  },
  {
   "cell_type": "code",
   "execution_count": 14,
   "id": "325814f8",
   "metadata": {
    "execution": {
     "iopub.execute_input": "2022-05-19T16:33:28.049993Z",
     "iopub.status.busy": "2022-05-19T16:33:28.049741Z",
     "iopub.status.idle": "2022-05-19T16:33:28.055929Z",
     "shell.execute_reply": "2022-05-19T16:33:28.055266Z"
    },
    "papermill": {
     "duration": 0.091003,
     "end_time": "2022-05-19T16:33:28.057494",
     "exception": false,
     "start_time": "2022-05-19T16:33:27.966491",
     "status": "completed"
    },
    "tags": []
   },
   "outputs": [
    {
     "data": {
      "text/plain": [
       "PassengerId      int64\n",
       "Survived         int64\n",
       "Pclass           int64\n",
       "Sex             object\n",
       "Age            float64\n",
       "SibSp            int64\n",
       "Parch            int64\n",
       "Fare           float64\n",
       "Embarked        object\n",
       "dtype: object"
      ]
     },
     "execution_count": 14,
     "metadata": {},
     "output_type": "execute_result"
    }
   ],
   "source": [
    "##checking data types of columns\n",
    "titanic_train.dtypes"
   ]
  },
  {
   "cell_type": "code",
   "execution_count": 15,
   "id": "6c890fc5",
   "metadata": {
    "execution": {
     "iopub.execute_input": "2022-05-19T16:33:28.166795Z",
     "iopub.status.busy": "2022-05-19T16:33:28.166298Z",
     "iopub.status.idle": "2022-05-19T16:33:28.190166Z",
     "shell.execute_reply": "2022-05-19T16:33:28.189617Z"
    },
    "papermill": {
     "duration": 0.080566,
     "end_time": "2022-05-19T16:33:28.192152",
     "exception": false,
     "start_time": "2022-05-19T16:33:28.111586",
     "status": "completed"
    },
    "tags": []
   },
   "outputs": [
    {
     "data": {
      "text/html": [
       "<div>\n",
       "<style scoped>\n",
       "    .dataframe tbody tr th:only-of-type {\n",
       "        vertical-align: middle;\n",
       "    }\n",
       "\n",
       "    .dataframe tbody tr th {\n",
       "        vertical-align: top;\n",
       "    }\n",
       "\n",
       "    .dataframe thead th {\n",
       "        text-align: right;\n",
       "    }\n",
       "</style>\n",
       "<table border=\"1\" class=\"dataframe\">\n",
       "  <thead>\n",
       "    <tr style=\"text-align: right;\">\n",
       "      <th></th>\n",
       "      <th>PassengerId</th>\n",
       "      <th>Survived</th>\n",
       "      <th>Pclass</th>\n",
       "      <th>Sex</th>\n",
       "      <th>Age</th>\n",
       "      <th>SibSp</th>\n",
       "      <th>Parch</th>\n",
       "      <th>Fare</th>\n",
       "      <th>Embarked</th>\n",
       "    </tr>\n",
       "  </thead>\n",
       "  <tbody>\n",
       "    <tr>\n",
       "      <th>0</th>\n",
       "      <td>1</td>\n",
       "      <td>0</td>\n",
       "      <td>3</td>\n",
       "      <td>male</td>\n",
       "      <td>22.0</td>\n",
       "      <td>1</td>\n",
       "      <td>0</td>\n",
       "      <td>7.2500</td>\n",
       "      <td>S</td>\n",
       "    </tr>\n",
       "    <tr>\n",
       "      <th>1</th>\n",
       "      <td>2</td>\n",
       "      <td>1</td>\n",
       "      <td>1</td>\n",
       "      <td>female</td>\n",
       "      <td>38.0</td>\n",
       "      <td>1</td>\n",
       "      <td>0</td>\n",
       "      <td>71.2833</td>\n",
       "      <td>C</td>\n",
       "    </tr>\n",
       "    <tr>\n",
       "      <th>2</th>\n",
       "      <td>3</td>\n",
       "      <td>1</td>\n",
       "      <td>3</td>\n",
       "      <td>female</td>\n",
       "      <td>26.0</td>\n",
       "      <td>0</td>\n",
       "      <td>0</td>\n",
       "      <td>7.9250</td>\n",
       "      <td>S</td>\n",
       "    </tr>\n",
       "    <tr>\n",
       "      <th>3</th>\n",
       "      <td>4</td>\n",
       "      <td>1</td>\n",
       "      <td>1</td>\n",
       "      <td>female</td>\n",
       "      <td>35.0</td>\n",
       "      <td>1</td>\n",
       "      <td>0</td>\n",
       "      <td>53.1000</td>\n",
       "      <td>S</td>\n",
       "    </tr>\n",
       "    <tr>\n",
       "      <th>4</th>\n",
       "      <td>5</td>\n",
       "      <td>0</td>\n",
       "      <td>3</td>\n",
       "      <td>male</td>\n",
       "      <td>35.0</td>\n",
       "      <td>0</td>\n",
       "      <td>0</td>\n",
       "      <td>8.0500</td>\n",
       "      <td>S</td>\n",
       "    </tr>\n",
       "    <tr>\n",
       "      <th>5</th>\n",
       "      <td>6</td>\n",
       "      <td>0</td>\n",
       "      <td>3</td>\n",
       "      <td>male</td>\n",
       "      <td>28.0</td>\n",
       "      <td>0</td>\n",
       "      <td>0</td>\n",
       "      <td>8.4583</td>\n",
       "      <td>Q</td>\n",
       "    </tr>\n",
       "    <tr>\n",
       "      <th>6</th>\n",
       "      <td>7</td>\n",
       "      <td>0</td>\n",
       "      <td>1</td>\n",
       "      <td>male</td>\n",
       "      <td>54.0</td>\n",
       "      <td>0</td>\n",
       "      <td>0</td>\n",
       "      <td>51.8625</td>\n",
       "      <td>S</td>\n",
       "    </tr>\n",
       "    <tr>\n",
       "      <th>7</th>\n",
       "      <td>8</td>\n",
       "      <td>0</td>\n",
       "      <td>3</td>\n",
       "      <td>male</td>\n",
       "      <td>2.0</td>\n",
       "      <td>3</td>\n",
       "      <td>1</td>\n",
       "      <td>21.0750</td>\n",
       "      <td>S</td>\n",
       "    </tr>\n",
       "    <tr>\n",
       "      <th>8</th>\n",
       "      <td>9</td>\n",
       "      <td>1</td>\n",
       "      <td>3</td>\n",
       "      <td>female</td>\n",
       "      <td>27.0</td>\n",
       "      <td>0</td>\n",
       "      <td>2</td>\n",
       "      <td>11.1333</td>\n",
       "      <td>S</td>\n",
       "    </tr>\n",
       "    <tr>\n",
       "      <th>9</th>\n",
       "      <td>10</td>\n",
       "      <td>1</td>\n",
       "      <td>2</td>\n",
       "      <td>female</td>\n",
       "      <td>14.0</td>\n",
       "      <td>1</td>\n",
       "      <td>0</td>\n",
       "      <td>30.0708</td>\n",
       "      <td>C</td>\n",
       "    </tr>\n",
       "  </tbody>\n",
       "</table>\n",
       "</div>"
      ],
      "text/plain": [
       "   PassengerId  Survived  Pclass     Sex   Age  SibSp  Parch     Fare Embarked\n",
       "0            1         0       3    male  22.0      1      0   7.2500        S\n",
       "1            2         1       1  female  38.0      1      0  71.2833        C\n",
       "2            3         1       3  female  26.0      0      0   7.9250        S\n",
       "3            4         1       1  female  35.0      1      0  53.1000        S\n",
       "4            5         0       3    male  35.0      0      0   8.0500        S\n",
       "5            6         0       3    male  28.0      0      0   8.4583        Q\n",
       "6            7         0       1    male  54.0      0      0  51.8625        S\n",
       "7            8         0       3    male   2.0      3      1  21.0750        S\n",
       "8            9         1       3  female  27.0      0      2  11.1333        S\n",
       "9           10         1       2  female  14.0      1      0  30.0708        C"
      ]
     },
     "execution_count": 15,
     "metadata": {},
     "output_type": "execute_result"
    }
   ],
   "source": [
    "# Replace 'NAN' value by median value for 'int' 'type and mode for 'str' type\n",
    "# train data\n",
    "titanic_train[\"Age\"].fillna(titanic_train[\"Age\"].median(), inplace=True) # age is postively skewed\n",
    "titanic_train[\"Fare\"].fillna(titanic_train[\"Fare\"].median(), inplace=True) # fare is postively skewed\n",
    "titanic_train[\"Embarked\"].fillna(titanic_train[\"Embarked\"].mode()[0], inplace=True)\n",
    "# test data\n",
    "titanic_test[\"Age\"].fillna(titanic_test[\"Age\"].median(), inplace=True)\n",
    "titanic_test[\"Fare\"].fillna(titanic_test[\"Fare\"].median(), inplace=True)\n",
    "titanic_test[\"Embarked\"].fillna(titanic_test[\"Embarked\"].mode()[0], inplace=True)\n",
    "titanic_train.head(10)"
   ]
  },
  {
   "cell_type": "code",
   "execution_count": 16,
   "id": "04f93972",
   "metadata": {
    "execution": {
     "iopub.execute_input": "2022-05-19T16:33:28.360272Z",
     "iopub.status.busy": "2022-05-19T16:33:28.359910Z",
     "iopub.status.idle": "2022-05-19T16:33:28.366878Z",
     "shell.execute_reply": "2022-05-19T16:33:28.366061Z"
    },
    "papermill": {
     "duration": 0.09276,
     "end_time": "2022-05-19T16:33:28.368593",
     "exception": false,
     "start_time": "2022-05-19T16:33:28.275833",
     "status": "completed"
    },
    "tags": []
   },
   "outputs": [
    {
     "data": {
      "text/plain": [
       "PassengerId    0\n",
       "Survived       0\n",
       "Pclass         0\n",
       "Sex            0\n",
       "Age            0\n",
       "SibSp          0\n",
       "Parch          0\n",
       "Fare           0\n",
       "Embarked       0\n",
       "dtype: int64"
      ]
     },
     "execution_count": 16,
     "metadata": {},
     "output_type": "execute_result"
    }
   ],
   "source": [
    "# After No Null operation\n",
    "titanic_train.isnull().sum()\n"
   ]
  },
  {
   "cell_type": "code",
   "execution_count": 17,
   "id": "65023eeb",
   "metadata": {
    "execution": {
     "iopub.execute_input": "2022-05-19T16:33:28.537223Z",
     "iopub.status.busy": "2022-05-19T16:33:28.536691Z",
     "iopub.status.idle": "2022-05-19T16:33:28.543564Z",
     "shell.execute_reply": "2022-05-19T16:33:28.542784Z"
    },
    "papermill": {
     "duration": 0.093028,
     "end_time": "2022-05-19T16:33:28.545212",
     "exception": false,
     "start_time": "2022-05-19T16:33:28.452184",
     "status": "completed"
    },
    "tags": []
   },
   "outputs": [
    {
     "data": {
      "text/plain": [
       "PassengerId    0\n",
       "Pclass         0\n",
       "Sex            0\n",
       "Age            0\n",
       "SibSp          0\n",
       "Parch          0\n",
       "Fare           0\n",
       "Embarked       0\n",
       "dtype: int64"
      ]
     },
     "execution_count": 17,
     "metadata": {},
     "output_type": "execute_result"
    }
   ],
   "source": [
    "titanic_test.isnull().sum()"
   ]
  },
  {
   "cell_type": "code",
   "execution_count": 18,
   "id": "99f857aa",
   "metadata": {
    "execution": {
     "iopub.execute_input": "2022-05-19T16:33:28.715057Z",
     "iopub.status.busy": "2022-05-19T16:33:28.714638Z",
     "iopub.status.idle": "2022-05-19T16:33:28.727222Z",
     "shell.execute_reply": "2022-05-19T16:33:28.726640Z"
    },
    "papermill": {
     "duration": 0.100032,
     "end_time": "2022-05-19T16:33:28.729187",
     "exception": false,
     "start_time": "2022-05-19T16:33:28.629155",
     "status": "completed"
    },
    "tags": []
   },
   "outputs": [
    {
     "name": "stdout",
     "output_type": "stream",
     "text": [
      "<class 'pandas.core.frame.DataFrame'>\n",
      "Int64Index: 418 entries, 0 to 417\n",
      "Data columns (total 8 columns):\n",
      " #   Column       Non-Null Count  Dtype  \n",
      "---  ------       --------------  -----  \n",
      " 0   PassengerId  418 non-null    int64  \n",
      " 1   Pclass       418 non-null    int64  \n",
      " 2   Sex          418 non-null    object \n",
      " 3   Age          418 non-null    float64\n",
      " 4   SibSp        418 non-null    int64  \n",
      " 5   Parch        418 non-null    int64  \n",
      " 6   Fare         418 non-null    float64\n",
      " 7   Embarked     418 non-null    object \n",
      "dtypes: float64(2), int64(4), object(2)\n",
      "memory usage: 29.4+ KB\n"
     ]
    }
   ],
   "source": [
    "\n",
    "titanic_test.info()"
   ]
  },
  {
   "cell_type": "markdown",
   "id": "fd078057",
   "metadata": {
    "papermill": {
     "duration": 0.08471,
     "end_time": "2022-05-19T16:33:28.899441",
     "exception": false,
     "start_time": "2022-05-19T16:33:28.814731",
     "status": "completed"
    },
    "tags": []
   },
   "source": [
    "## Analysis of Passengers Class"
   ]
  },
  {
   "cell_type": "code",
   "execution_count": 19,
   "id": "ad3f797d",
   "metadata": {
    "execution": {
     "iopub.execute_input": "2022-05-19T16:33:29.070423Z",
     "iopub.status.busy": "2022-05-19T16:33:29.070033Z",
     "iopub.status.idle": "2022-05-19T16:33:29.184471Z",
     "shell.execute_reply": "2022-05-19T16:33:29.183918Z"
    },
    "papermill": {
     "duration": 0.202044,
     "end_time": "2022-05-19T16:33:29.186446",
     "exception": false,
     "start_time": "2022-05-19T16:33:28.984402",
     "status": "completed"
    },
    "tags": []
   },
   "outputs": [
    {
     "name": "stderr",
     "output_type": "stream",
     "text": [
      "/opt/conda/lib/python3.7/site-packages/seaborn/_decorators.py:43: FutureWarning: Pass the following variable as a keyword arg: x. From version 0.12, the only valid positional argument will be `data`, and passing other arguments without an explicit keyword will result in an error or misinterpretation.\n",
      "  FutureWarning\n"
     ]
    },
    {
     "data": {
      "text/plain": [
       "<AxesSubplot:xlabel='Pclass', ylabel='count'>"
      ]
     },
     "execution_count": 19,
     "metadata": {},
     "output_type": "execute_result"
    },
    {
     "data": {
      "image/png": "[encoded data removed]",
      "text/plain": [
       "<Figure size 432x288 with 1 Axes>"
      ]
     },
     "metadata": {
      "needs_background": "light"
     },
     "output_type": "display_data"
    }
   ],
   "source": [
    "# Passenger Class\n",
    "sns.countplot(titanic_train[\"Pclass\"])"
   ]
  },
  {
   "cell_type": "markdown",
   "id": "80e1605d",
   "metadata": {
    "papermill": {
     "duration": 0.087164,
     "end_time": "2022-05-19T16:33:29.367441",
     "exception": false,
     "start_time": "2022-05-19T16:33:29.280277",
     "status": "completed"
    },
    "tags": []
   },
   "source": [
    " Passenger of class 3 is the highest among all.\n",
    " Out of 3 classes, we analyze  the number people survived most based on age and sex."
   ]
  },
  {
   "cell_type": "code",
   "execution_count": 20,
   "id": "fe7d4ff3",
   "metadata": {
    "execution": {
     "iopub.execute_input": "2022-05-19T16:33:29.542542Z",
     "iopub.status.busy": "2022-05-19T16:33:29.542290Z",
     "iopub.status.idle": "2022-05-19T16:33:29.563614Z",
     "shell.execute_reply": "2022-05-19T16:33:29.563113Z"
    },
    "papermill": {
     "duration": 0.110958,
     "end_time": "2022-05-19T16:33:29.565288",
     "exception": false,
     "start_time": "2022-05-19T16:33:29.454330",
     "status": "completed"
    },
    "tags": []
   },
   "outputs": [
    {
     "data": {
      "text/html": [
       "<div>\n",
       "<style scoped>\n",
       "    .dataframe tbody tr th:only-of-type {\n",
       "        vertical-align: middle;\n",
       "    }\n",
       "\n",
       "    .dataframe tbody tr th {\n",
       "        vertical-align: top;\n",
       "    }\n",
       "\n",
       "    .dataframe thead th {\n",
       "        text-align: right;\n",
       "    }\n",
       "</style>\n",
       "<table border=\"1\" class=\"dataframe\">\n",
       "  <thead>\n",
       "    <tr style=\"text-align: right;\">\n",
       "      <th></th>\n",
       "      <th>PassengerId</th>\n",
       "      <th>Pclass</th>\n",
       "      <th>Sex</th>\n",
       "      <th>Age</th>\n",
       "      <th>SibSp</th>\n",
       "      <th>Parch</th>\n",
       "      <th>Fare</th>\n",
       "      <th>Embarked</th>\n",
       "      <th>Age_Class</th>\n",
       "    </tr>\n",
       "  </thead>\n",
       "  <tbody>\n",
       "    <tr>\n",
       "      <th>0</th>\n",
       "      <td>892</td>\n",
       "      <td>3</td>\n",
       "      <td>male</td>\n",
       "      <td>34.5</td>\n",
       "      <td>0</td>\n",
       "      <td>0</td>\n",
       "      <td>7.8292</td>\n",
       "      <td>Q</td>\n",
       "      <td>Young</td>\n",
       "    </tr>\n",
       "    <tr>\n",
       "      <th>1</th>\n",
       "      <td>893</td>\n",
       "      <td>3</td>\n",
       "      <td>female</td>\n",
       "      <td>47.0</td>\n",
       "      <td>1</td>\n",
       "      <td>0</td>\n",
       "      <td>7.0000</td>\n",
       "      <td>S</td>\n",
       "      <td>Adult</td>\n",
       "    </tr>\n",
       "    <tr>\n",
       "      <th>2</th>\n",
       "      <td>894</td>\n",
       "      <td>2</td>\n",
       "      <td>male</td>\n",
       "      <td>62.0</td>\n",
       "      <td>0</td>\n",
       "      <td>0</td>\n",
       "      <td>9.6875</td>\n",
       "      <td>Q</td>\n",
       "      <td>Senior</td>\n",
       "    </tr>\n",
       "    <tr>\n",
       "      <th>3</th>\n",
       "      <td>895</td>\n",
       "      <td>3</td>\n",
       "      <td>male</td>\n",
       "      <td>27.0</td>\n",
       "      <td>0</td>\n",
       "      <td>0</td>\n",
       "      <td>8.6625</td>\n",
       "      <td>S</td>\n",
       "      <td>Young</td>\n",
       "    </tr>\n",
       "    <tr>\n",
       "      <th>4</th>\n",
       "      <td>896</td>\n",
       "      <td>3</td>\n",
       "      <td>female</td>\n",
       "      <td>22.0</td>\n",
       "      <td>1</td>\n",
       "      <td>1</td>\n",
       "      <td>12.2875</td>\n",
       "      <td>S</td>\n",
       "      <td>Young</td>\n",
       "    </tr>\n",
       "    <tr>\n",
       "      <th>5</th>\n",
       "      <td>897</td>\n",
       "      <td>3</td>\n",
       "      <td>male</td>\n",
       "      <td>14.0</td>\n",
       "      <td>0</td>\n",
       "      <td>0</td>\n",
       "      <td>9.2250</td>\n",
       "      <td>S</td>\n",
       "      <td>Kid</td>\n",
       "    </tr>\n",
       "    <tr>\n",
       "      <th>6</th>\n",
       "      <td>898</td>\n",
       "      <td>3</td>\n",
       "      <td>female</td>\n",
       "      <td>30.0</td>\n",
       "      <td>0</td>\n",
       "      <td>0</td>\n",
       "      <td>7.6292</td>\n",
       "      <td>Q</td>\n",
       "      <td>Young</td>\n",
       "    </tr>\n",
       "    <tr>\n",
       "      <th>7</th>\n",
       "      <td>899</td>\n",
       "      <td>2</td>\n",
       "      <td>male</td>\n",
       "      <td>26.0</td>\n",
       "      <td>1</td>\n",
       "      <td>1</td>\n",
       "      <td>29.0000</td>\n",
       "      <td>S</td>\n",
       "      <td>Young</td>\n",
       "    </tr>\n",
       "    <tr>\n",
       "      <th>8</th>\n",
       "      <td>900</td>\n",
       "      <td>3</td>\n",
       "      <td>female</td>\n",
       "      <td>18.0</td>\n",
       "      <td>0</td>\n",
       "      <td>0</td>\n",
       "      <td>7.2292</td>\n",
       "      <td>C</td>\n",
       "      <td>Kid</td>\n",
       "    </tr>\n",
       "    <tr>\n",
       "      <th>9</th>\n",
       "      <td>901</td>\n",
       "      <td>3</td>\n",
       "      <td>male</td>\n",
       "      <td>21.0</td>\n",
       "      <td>2</td>\n",
       "      <td>0</td>\n",
       "      <td>24.1500</td>\n",
       "      <td>S</td>\n",
       "      <td>Young</td>\n",
       "    </tr>\n",
       "  </tbody>\n",
       "</table>\n",
       "</div>"
      ],
      "text/plain": [
       "   PassengerId  Pclass     Sex   Age  SibSp  Parch     Fare Embarked Age_Class\n",
       "0          892       3    male  34.5      0      0   7.8292        Q     Young\n",
       "1          893       3  female  47.0      1      0   7.0000        S     Adult\n",
       "2          894       2    male  62.0      0      0   9.6875        Q    Senior\n",
       "3          895       3    male  27.0      0      0   8.6625        S     Young\n",
       "4          896       3  female  22.0      1      1  12.2875        S     Young\n",
       "5          897       3    male  14.0      0      0   9.2250        S       Kid\n",
       "6          898       3  female  30.0      0      0   7.6292        Q     Young\n",
       "7          899       2    male  26.0      1      1  29.0000        S     Young\n",
       "8          900       3  female  18.0      0      0   7.2292        C       Kid\n",
       "9          901       3    male  21.0      2      0  24.1500        S     Young"
      ]
     },
     "execution_count": 20,
     "metadata": {},
     "output_type": "execute_result"
    }
   ],
   "source": [
    "# age classification\n",
    "titanic_train[\"Age_Class\"] = pd.cut(titanic_train.Age, \n",
    "                                    [0,20,40,60, np.inf], labels=['Kid','Young','Adult',\"Senior\"])\n",
    "titanic_test[\"Age_Class\"] = pd.cut(titanic_test.Age, \n",
    "                                    [0,20,40,60, np.inf], labels=['Kid','Young','Adult',\"Senior\"])\n",
    "titanic_test.head(10)"
   ]
  },
  {
   "cell_type": "code",
   "execution_count": 21,
   "id": "5b068d1d",
   "metadata": {
    "execution": {
     "iopub.execute_input": "2022-05-19T16:33:29.741759Z",
     "iopub.status.busy": "2022-05-19T16:33:29.741103Z",
     "iopub.status.idle": "2022-05-19T16:33:29.753137Z",
     "shell.execute_reply": "2022-05-19T16:33:29.752304Z"
    },
    "papermill": {
     "duration": 0.1023,
     "end_time": "2022-05-19T16:33:29.755220",
     "exception": false,
     "start_time": "2022-05-19T16:33:29.652920",
     "status": "completed"
    },
    "tags": []
   },
   "outputs": [
    {
     "name": "stdout",
     "output_type": "stream",
     "text": [
      "<class 'pandas.core.frame.DataFrame'>\n",
      "Int64Index: 418 entries, 0 to 417\n",
      "Data columns (total 9 columns):\n",
      " #   Column       Non-Null Count  Dtype   \n",
      "---  ------       --------------  -----   \n",
      " 0   PassengerId  418 non-null    int64   \n",
      " 1   Pclass       418 non-null    int64   \n",
      " 2   Sex          418 non-null    object  \n",
      " 3   Age          418 non-null    float64 \n",
      " 4   SibSp        418 non-null    int64   \n",
      " 5   Parch        418 non-null    int64   \n",
      " 6   Fare         418 non-null    float64 \n",
      " 7   Embarked     418 non-null    object  \n",
      " 8   Age_Class    418 non-null    category\n",
      "dtypes: category(1), float64(2), int64(4), object(2)\n",
      "memory usage: 30.0+ KB\n"
     ]
    }
   ],
   "source": [
    "titanic_test.info()"
   ]
  },
  {
   "cell_type": "code",
   "execution_count": 22,
   "id": "5931aca0",
   "metadata": {
    "execution": {
     "iopub.execute_input": "2022-05-19T16:33:29.885661Z",
     "iopub.status.busy": "2022-05-19T16:33:29.884862Z",
     "iopub.status.idle": "2022-05-19T16:33:29.899680Z",
     "shell.execute_reply": "2022-05-19T16:33:29.899235Z"
    },
    "papermill": {
     "duration": 0.074936,
     "end_time": "2022-05-19T16:33:29.900994",
     "exception": false,
     "start_time": "2022-05-19T16:33:29.826058",
     "status": "completed"
    },
    "tags": []
   },
   "outputs": [
    {
     "data": {
      "text/html": [
       "<div>\n",
       "<style scoped>\n",
       "    .dataframe tbody tr th:only-of-type {\n",
       "        vertical-align: middle;\n",
       "    }\n",
       "\n",
       "    .dataframe tbody tr th {\n",
       "        vertical-align: top;\n",
       "    }\n",
       "\n",
       "    .dataframe thead th {\n",
       "        text-align: right;\n",
       "    }\n",
       "</style>\n",
       "<table border=\"1\" class=\"dataframe\">\n",
       "  <thead>\n",
       "    <tr style=\"text-align: right;\">\n",
       "      <th></th>\n",
       "      <th>PassengerId</th>\n",
       "      <th>Pclass</th>\n",
       "      <th>Sex</th>\n",
       "      <th>Age</th>\n",
       "      <th>SibSp</th>\n",
       "      <th>Parch</th>\n",
       "      <th>Fare</th>\n",
       "      <th>Embarked</th>\n",
       "      <th>Age_Class</th>\n",
       "    </tr>\n",
       "  </thead>\n",
       "  <tbody>\n",
       "    <tr>\n",
       "      <th>0</th>\n",
       "      <td>892</td>\n",
       "      <td>3</td>\n",
       "      <td>male</td>\n",
       "      <td>34.5</td>\n",
       "      <td>0</td>\n",
       "      <td>0</td>\n",
       "      <td>7.8292</td>\n",
       "      <td>Q</td>\n",
       "      <td>1</td>\n",
       "    </tr>\n",
       "    <tr>\n",
       "      <th>1</th>\n",
       "      <td>893</td>\n",
       "      <td>3</td>\n",
       "      <td>female</td>\n",
       "      <td>47.0</td>\n",
       "      <td>1</td>\n",
       "      <td>0</td>\n",
       "      <td>7.0000</td>\n",
       "      <td>S</td>\n",
       "      <td>2</td>\n",
       "    </tr>\n",
       "    <tr>\n",
       "      <th>2</th>\n",
       "      <td>894</td>\n",
       "      <td>2</td>\n",
       "      <td>male</td>\n",
       "      <td>62.0</td>\n",
       "      <td>0</td>\n",
       "      <td>0</td>\n",
       "      <td>9.6875</td>\n",
       "      <td>Q</td>\n",
       "      <td>3</td>\n",
       "    </tr>\n",
       "    <tr>\n",
       "      <th>3</th>\n",
       "      <td>895</td>\n",
       "      <td>3</td>\n",
       "      <td>male</td>\n",
       "      <td>27.0</td>\n",
       "      <td>0</td>\n",
       "      <td>0</td>\n",
       "      <td>8.6625</td>\n",
       "      <td>S</td>\n",
       "      <td>1</td>\n",
       "    </tr>\n",
       "    <tr>\n",
       "      <th>4</th>\n",
       "      <td>896</td>\n",
       "      <td>3</td>\n",
       "      <td>female</td>\n",
       "      <td>22.0</td>\n",
       "      <td>1</td>\n",
       "      <td>1</td>\n",
       "      <td>12.2875</td>\n",
       "      <td>S</td>\n",
       "      <td>1</td>\n",
       "    </tr>\n",
       "    <tr>\n",
       "      <th>5</th>\n",
       "      <td>897</td>\n",
       "      <td>3</td>\n",
       "      <td>male</td>\n",
       "      <td>14.0</td>\n",
       "      <td>0</td>\n",
       "      <td>0</td>\n",
       "      <td>9.2250</td>\n",
       "      <td>S</td>\n",
       "      <td>0</td>\n",
       "    </tr>\n",
       "    <tr>\n",
       "      <th>6</th>\n",
       "      <td>898</td>\n",
       "      <td>3</td>\n",
       "      <td>female</td>\n",
       "      <td>30.0</td>\n",
       "      <td>0</td>\n",
       "      <td>0</td>\n",
       "      <td>7.6292</td>\n",
       "      <td>Q</td>\n",
       "      <td>1</td>\n",
       "    </tr>\n",
       "  </tbody>\n",
       "</table>\n",
       "</div>"
      ],
      "text/plain": [
       "   PassengerId  Pclass     Sex   Age  SibSp  Parch     Fare Embarked  \\\n",
       "0          892       3    male  34.5      0      0   7.8292        Q   \n",
       "1          893       3  female  47.0      1      0   7.0000        S   \n",
       "2          894       2    male  62.0      0      0   9.6875        Q   \n",
       "3          895       3    male  27.0      0      0   8.6625        S   \n",
       "4          896       3  female  22.0      1      1  12.2875        S   \n",
       "5          897       3    male  14.0      0      0   9.2250        S   \n",
       "6          898       3  female  30.0      0      0   7.6292        Q   \n",
       "\n",
       "   Age_Class  \n",
       "0          1  \n",
       "1          2  \n",
       "2          3  \n",
       "3          1  \n",
       "4          1  \n",
       "5          0  \n",
       "6          1  "
      ]
     },
     "execution_count": 22,
     "metadata": {},
     "output_type": "execute_result"
    }
   ],
   "source": [
    "titanic_train[\"Age_Class\"].replace({\"Kid\":0,\"Young\":1,\"Adult\":2,\"Senior\":3 },inplace=True)  ## label encoding\n",
    "titanic_test[\"Age_Class\"].replace({\"Kid\":0,\"Young\":1,\"Adult\":2,\"Senior\":3 },inplace=True)  ## label encoding\n",
    "titanic_test.head(7)"
   ]
  },
  {
   "cell_type": "code",
   "execution_count": 23,
   "id": "00f291bd",
   "metadata": {
    "execution": {
     "iopub.execute_input": "2022-05-19T16:33:30.018886Z",
     "iopub.status.busy": "2022-05-19T16:33:30.018207Z",
     "iopub.status.idle": "2022-05-19T16:33:30.027542Z",
     "shell.execute_reply": "2022-05-19T16:33:30.026714Z"
    },
    "papermill": {
     "duration": 0.070205,
     "end_time": "2022-05-19T16:33:30.029235",
     "exception": false,
     "start_time": "2022-05-19T16:33:29.959030",
     "status": "completed"
    },
    "tags": []
   },
   "outputs": [
    {
     "name": "stdout",
     "output_type": "stream",
     "text": [
      "<class 'pandas.core.frame.DataFrame'>\n",
      "Int64Index: 418 entries, 0 to 417\n",
      "Data columns (total 9 columns):\n",
      " #   Column       Non-Null Count  Dtype  \n",
      "---  ------       --------------  -----  \n",
      " 0   PassengerId  418 non-null    int64  \n",
      " 1   Pclass       418 non-null    int64  \n",
      " 2   Sex          418 non-null    object \n",
      " 3   Age          418 non-null    float64\n",
      " 4   SibSp        418 non-null    int64  \n",
      " 5   Parch        418 non-null    int64  \n",
      " 6   Fare         418 non-null    float64\n",
      " 7   Embarked     418 non-null    object \n",
      " 8   Age_Class    418 non-null    int64  \n",
      "dtypes: float64(2), int64(5), object(2)\n",
      "memory usage: 32.7+ KB\n"
     ]
    }
   ],
   "source": [
    "\n",
    "titanic_test.info()"
   ]
  },
  {
   "cell_type": "code",
   "execution_count": 24,
   "id": "fe87abf5",
   "metadata": {
    "execution": {
     "iopub.execute_input": "2022-05-19T16:33:30.144507Z",
     "iopub.status.busy": "2022-05-19T16:33:30.144261Z",
     "iopub.status.idle": "2022-05-19T16:33:30.151499Z",
     "shell.execute_reply": "2022-05-19T16:33:30.150837Z"
    },
    "papermill": {
     "duration": 0.066196,
     "end_time": "2022-05-19T16:33:30.152893",
     "exception": false,
     "start_time": "2022-05-19T16:33:30.086697",
     "status": "completed"
    },
    "tags": []
   },
   "outputs": [
    {
     "data": {
      "text/plain": [
       "PassengerId    0\n",
       "Pclass         0\n",
       "Sex            0\n",
       "Age            0\n",
       "SibSp          0\n",
       "Parch          0\n",
       "Fare           0\n",
       "Embarked       0\n",
       "Age_Class      0\n",
       "dtype: int64"
      ]
     },
     "execution_count": 24,
     "metadata": {},
     "output_type": "execute_result"
    }
   ],
   "source": [
    "\n",
    "titanic_test.isnull().sum()"
   ]
  },
  {
   "cell_type": "code",
   "execution_count": 25,
   "id": "badbb3f3",
   "metadata": {
    "execution": {
     "iopub.execute_input": "2022-05-19T16:33:30.268901Z",
     "iopub.status.busy": "2022-05-19T16:33:30.268563Z",
     "iopub.status.idle": "2022-05-19T16:33:30.287286Z",
     "shell.execute_reply": "2022-05-19T16:33:30.286736Z"
    },
    "papermill": {
     "duration": 0.078468,
     "end_time": "2022-05-19T16:33:30.288719",
     "exception": false,
     "start_time": "2022-05-19T16:33:30.210251",
     "status": "completed"
    },
    "tags": []
   },
   "outputs": [
    {
     "data": {
      "text/html": [
       "<div>\n",
       "<style scoped>\n",
       "    .dataframe tbody tr th:only-of-type {\n",
       "        vertical-align: middle;\n",
       "    }\n",
       "\n",
       "    .dataframe tbody tr th {\n",
       "        vertical-align: top;\n",
       "    }\n",
       "\n",
       "    .dataframe thead th {\n",
       "        text-align: right;\n",
       "    }\n",
       "</style>\n",
       "<table border=\"1\" class=\"dataframe\">\n",
       "  <thead>\n",
       "    <tr style=\"text-align: right;\">\n",
       "      <th></th>\n",
       "      <th>PassengerId</th>\n",
       "      <th>Survived</th>\n",
       "      <th>Pclass</th>\n",
       "      <th>Sex</th>\n",
       "      <th>Age</th>\n",
       "      <th>SibSp</th>\n",
       "      <th>Parch</th>\n",
       "      <th>Fare</th>\n",
       "      <th>Embarked</th>\n",
       "      <th>Age_Class</th>\n",
       "    </tr>\n",
       "  </thead>\n",
       "  <tbody>\n",
       "    <tr>\n",
       "      <th>0</th>\n",
       "      <td>1</td>\n",
       "      <td>0</td>\n",
       "      <td>3</td>\n",
       "      <td>male</td>\n",
       "      <td>22.0</td>\n",
       "      <td>1</td>\n",
       "      <td>0</td>\n",
       "      <td>7.2500</td>\n",
       "      <td>0</td>\n",
       "      <td>1</td>\n",
       "    </tr>\n",
       "    <tr>\n",
       "      <th>1</th>\n",
       "      <td>2</td>\n",
       "      <td>1</td>\n",
       "      <td>1</td>\n",
       "      <td>female</td>\n",
       "      <td>38.0</td>\n",
       "      <td>1</td>\n",
       "      <td>0</td>\n",
       "      <td>71.2833</td>\n",
       "      <td>2</td>\n",
       "      <td>1</td>\n",
       "    </tr>\n",
       "    <tr>\n",
       "      <th>2</th>\n",
       "      <td>3</td>\n",
       "      <td>1</td>\n",
       "      <td>3</td>\n",
       "      <td>female</td>\n",
       "      <td>26.0</td>\n",
       "      <td>0</td>\n",
       "      <td>0</td>\n",
       "      <td>7.9250</td>\n",
       "      <td>0</td>\n",
       "      <td>1</td>\n",
       "    </tr>\n",
       "    <tr>\n",
       "      <th>3</th>\n",
       "      <td>4</td>\n",
       "      <td>1</td>\n",
       "      <td>1</td>\n",
       "      <td>female</td>\n",
       "      <td>35.0</td>\n",
       "      <td>1</td>\n",
       "      <td>0</td>\n",
       "      <td>53.1000</td>\n",
       "      <td>0</td>\n",
       "      <td>1</td>\n",
       "    </tr>\n",
       "    <tr>\n",
       "      <th>4</th>\n",
       "      <td>5</td>\n",
       "      <td>0</td>\n",
       "      <td>3</td>\n",
       "      <td>male</td>\n",
       "      <td>35.0</td>\n",
       "      <td>0</td>\n",
       "      <td>0</td>\n",
       "      <td>8.0500</td>\n",
       "      <td>0</td>\n",
       "      <td>1</td>\n",
       "    </tr>\n",
       "    <tr>\n",
       "      <th>5</th>\n",
       "      <td>6</td>\n",
       "      <td>0</td>\n",
       "      <td>3</td>\n",
       "      <td>male</td>\n",
       "      <td>28.0</td>\n",
       "      <td>0</td>\n",
       "      <td>0</td>\n",
       "      <td>8.4583</td>\n",
       "      <td>1</td>\n",
       "      <td>1</td>\n",
       "    </tr>\n",
       "    <tr>\n",
       "      <th>6</th>\n",
       "      <td>7</td>\n",
       "      <td>0</td>\n",
       "      <td>1</td>\n",
       "      <td>male</td>\n",
       "      <td>54.0</td>\n",
       "      <td>0</td>\n",
       "      <td>0</td>\n",
       "      <td>51.8625</td>\n",
       "      <td>0</td>\n",
       "      <td>2</td>\n",
       "    </tr>\n",
       "  </tbody>\n",
       "</table>\n",
       "</div>"
      ],
      "text/plain": [
       "   PassengerId  Survived  Pclass     Sex   Age  SibSp  Parch     Fare  \\\n",
       "0            1         0       3    male  22.0      1      0   7.2500   \n",
       "1            2         1       1  female  38.0      1      0  71.2833   \n",
       "2            3         1       3  female  26.0      0      0   7.9250   \n",
       "3            4         1       1  female  35.0      1      0  53.1000   \n",
       "4            5         0       3    male  35.0      0      0   8.0500   \n",
       "5            6         0       3    male  28.0      0      0   8.4583   \n",
       "6            7         0       1    male  54.0      0      0  51.8625   \n",
       "\n",
       "   Embarked  Age_Class  \n",
       "0         0          1  \n",
       "1         2          1  \n",
       "2         0          1  \n",
       "3         0          1  \n",
       "4         0          1  \n",
       "5         1          1  \n",
       "6         0          2  "
      ]
     },
     "execution_count": 25,
     "metadata": {},
     "output_type": "execute_result"
    }
   ],
   "source": [
    "titanic_train[\"Embarked\"].replace({\"S\":0,\"Q\":1,\"C\":2},inplace=True)  ## label encoding\n",
    "titanic_test[\"Embarked\"].replace({\"S\":0,\"Q\":1,\"C\":2 },inplace=True)  ## label encoding\n",
    "titanic_train.head(7)"
   ]
  },
  {
   "cell_type": "code",
   "execution_count": 26,
   "id": "f2b5efb2",
   "metadata": {
    "execution": {
     "iopub.execute_input": "2022-05-19T16:33:30.410950Z",
     "iopub.status.busy": "2022-05-19T16:33:30.410589Z",
     "iopub.status.idle": "2022-05-19T16:33:30.425127Z",
     "shell.execute_reply": "2022-05-19T16:33:30.424605Z"
    },
    "papermill": {
     "duration": 0.07743,
     "end_time": "2022-05-19T16:33:30.426539",
     "exception": false,
     "start_time": "2022-05-19T16:33:30.349109",
     "status": "completed"
    },
    "tags": []
   },
   "outputs": [
    {
     "data": {
      "text/html": [
       "<div>\n",
       "<style scoped>\n",
       "    .dataframe tbody tr th:only-of-type {\n",
       "        vertical-align: middle;\n",
       "    }\n",
       "\n",
       "    .dataframe tbody tr th {\n",
       "        vertical-align: top;\n",
       "    }\n",
       "\n",
       "    .dataframe thead th {\n",
       "        text-align: right;\n",
       "    }\n",
       "</style>\n",
       "<table border=\"1\" class=\"dataframe\">\n",
       "  <thead>\n",
       "    <tr style=\"text-align: right;\">\n",
       "      <th></th>\n",
       "      <th>PassengerId</th>\n",
       "      <th>Pclass</th>\n",
       "      <th>Sex</th>\n",
       "      <th>Age</th>\n",
       "      <th>SibSp</th>\n",
       "      <th>Parch</th>\n",
       "      <th>Fare</th>\n",
       "      <th>Embarked</th>\n",
       "      <th>Age_Class</th>\n",
       "    </tr>\n",
       "  </thead>\n",
       "  <tbody>\n",
       "    <tr>\n",
       "      <th>0</th>\n",
       "      <td>892</td>\n",
       "      <td>3</td>\n",
       "      <td>male</td>\n",
       "      <td>34.5</td>\n",
       "      <td>0</td>\n",
       "      <td>0</td>\n",
       "      <td>7.8292</td>\n",
       "      <td>1</td>\n",
       "      <td>1</td>\n",
       "    </tr>\n",
       "    <tr>\n",
       "      <th>1</th>\n",
       "      <td>893</td>\n",
       "      <td>3</td>\n",
       "      <td>female</td>\n",
       "      <td>47.0</td>\n",
       "      <td>1</td>\n",
       "      <td>0</td>\n",
       "      <td>7.0000</td>\n",
       "      <td>0</td>\n",
       "      <td>2</td>\n",
       "    </tr>\n",
       "    <tr>\n",
       "      <th>2</th>\n",
       "      <td>894</td>\n",
       "      <td>2</td>\n",
       "      <td>male</td>\n",
       "      <td>62.0</td>\n",
       "      <td>0</td>\n",
       "      <td>0</td>\n",
       "      <td>9.6875</td>\n",
       "      <td>1</td>\n",
       "      <td>3</td>\n",
       "    </tr>\n",
       "    <tr>\n",
       "      <th>3</th>\n",
       "      <td>895</td>\n",
       "      <td>3</td>\n",
       "      <td>male</td>\n",
       "      <td>27.0</td>\n",
       "      <td>0</td>\n",
       "      <td>0</td>\n",
       "      <td>8.6625</td>\n",
       "      <td>0</td>\n",
       "      <td>1</td>\n",
       "    </tr>\n",
       "    <tr>\n",
       "      <th>4</th>\n",
       "      <td>896</td>\n",
       "      <td>3</td>\n",
       "      <td>female</td>\n",
       "      <td>22.0</td>\n",
       "      <td>1</td>\n",
       "      <td>1</td>\n",
       "      <td>12.2875</td>\n",
       "      <td>0</td>\n",
       "      <td>1</td>\n",
       "    </tr>\n",
       "    <tr>\n",
       "      <th>5</th>\n",
       "      <td>897</td>\n",
       "      <td>3</td>\n",
       "      <td>male</td>\n",
       "      <td>14.0</td>\n",
       "      <td>0</td>\n",
       "      <td>0</td>\n",
       "      <td>9.2250</td>\n",
       "      <td>0</td>\n",
       "      <td>0</td>\n",
       "    </tr>\n",
       "    <tr>\n",
       "      <th>6</th>\n",
       "      <td>898</td>\n",
       "      <td>3</td>\n",
       "      <td>female</td>\n",
       "      <td>30.0</td>\n",
       "      <td>0</td>\n",
       "      <td>0</td>\n",
       "      <td>7.6292</td>\n",
       "      <td>1</td>\n",
       "      <td>1</td>\n",
       "    </tr>\n",
       "    <tr>\n",
       "      <th>7</th>\n",
       "      <td>899</td>\n",
       "      <td>2</td>\n",
       "      <td>male</td>\n",
       "      <td>26.0</td>\n",
       "      <td>1</td>\n",
       "      <td>1</td>\n",
       "      <td>29.0000</td>\n",
       "      <td>0</td>\n",
       "      <td>1</td>\n",
       "    </tr>\n",
       "    <tr>\n",
       "      <th>8</th>\n",
       "      <td>900</td>\n",
       "      <td>3</td>\n",
       "      <td>female</td>\n",
       "      <td>18.0</td>\n",
       "      <td>0</td>\n",
       "      <td>0</td>\n",
       "      <td>7.2292</td>\n",
       "      <td>2</td>\n",
       "      <td>0</td>\n",
       "    </tr>\n",
       "    <tr>\n",
       "      <th>9</th>\n",
       "      <td>901</td>\n",
       "      <td>3</td>\n",
       "      <td>male</td>\n",
       "      <td>21.0</td>\n",
       "      <td>2</td>\n",
       "      <td>0</td>\n",
       "      <td>24.1500</td>\n",
       "      <td>0</td>\n",
       "      <td>1</td>\n",
       "    </tr>\n",
       "  </tbody>\n",
       "</table>\n",
       "</div>"
      ],
      "text/plain": [
       "   PassengerId  Pclass     Sex   Age  SibSp  Parch     Fare  Embarked  \\\n",
       "0          892       3    male  34.5      0      0   7.8292         1   \n",
       "1          893       3  female  47.0      1      0   7.0000         0   \n",
       "2          894       2    male  62.0      0      0   9.6875         1   \n",
       "3          895       3    male  27.0      0      0   8.6625         0   \n",
       "4          896       3  female  22.0      1      1  12.2875         0   \n",
       "5          897       3    male  14.0      0      0   9.2250         0   \n",
       "6          898       3  female  30.0      0      0   7.6292         1   \n",
       "7          899       2    male  26.0      1      1  29.0000         0   \n",
       "8          900       3  female  18.0      0      0   7.2292         2   \n",
       "9          901       3    male  21.0      2      0  24.1500         0   \n",
       "\n",
       "   Age_Class  \n",
       "0          1  \n",
       "1          2  \n",
       "2          3  \n",
       "3          1  \n",
       "4          1  \n",
       "5          0  \n",
       "6          1  \n",
       "7          1  \n",
       "8          0  \n",
       "9          1  "
      ]
     },
     "execution_count": 26,
     "metadata": {},
     "output_type": "execute_result"
    }
   ],
   "source": [
    "titanic_test.head(10)"
   ]
  },
  {
   "cell_type": "code",
   "execution_count": 27,
   "id": "4d20c1cd",
   "metadata": {
    "execution": {
     "iopub.execute_input": "2022-05-19T16:33:30.546052Z",
     "iopub.status.busy": "2022-05-19T16:33:30.545856Z",
     "iopub.status.idle": "2022-05-19T16:33:30.550306Z",
     "shell.execute_reply": "2022-05-19T16:33:30.549671Z"
    },
    "papermill": {
     "duration": 0.065459,
     "end_time": "2022-05-19T16:33:30.551725",
     "exception": false,
     "start_time": "2022-05-19T16:33:30.486266",
     "status": "completed"
    },
    "tags": []
   },
   "outputs": [
    {
     "data": {
      "text/plain": [
       "(418, 9)"
      ]
     },
     "execution_count": 27,
     "metadata": {},
     "output_type": "execute_result"
    }
   ],
   "source": [
    "titanic_test.shape"
   ]
  },
  {
   "cell_type": "code",
   "execution_count": 28,
   "id": "7916bb1b",
   "metadata": {
    "execution": {
     "iopub.execute_input": "2022-05-19T16:33:30.672839Z",
     "iopub.status.busy": "2022-05-19T16:33:30.672503Z",
     "iopub.status.idle": "2022-05-19T16:33:30.808133Z",
     "shell.execute_reply": "2022-05-19T16:33:30.807559Z"
    },
    "papermill": {
     "duration": 0.198473,
     "end_time": "2022-05-19T16:33:30.809944",
     "exception": false,
     "start_time": "2022-05-19T16:33:30.611471",
     "status": "completed"
    },
    "tags": []
   },
   "outputs": [
    {
     "name": "stderr",
     "output_type": "stream",
     "text": [
      "/opt/conda/lib/python3.7/site-packages/seaborn/_decorators.py:43: FutureWarning: Pass the following variable as a keyword arg: x. From version 0.12, the only valid positional argument will be `data`, and passing other arguments without an explicit keyword will result in an error or misinterpretation.\n",
      "  FutureWarning\n"
     ]
    },
    {
     "data": {
      "text/plain": [
       "<AxesSubplot:xlabel='Age_Class', ylabel='count'>"
      ]
     },
     "execution_count": 28,
     "metadata": {},
     "output_type": "execute_result"
    },
    {
     "data": {
      "image/png": "[encoded data removed]",
      "text/plain": [
       "<Figure size 432x288 with 1 Axes>"
      ]
     },
     "metadata": {
      "needs_background": "light"
     },
     "output_type": "display_data"
    }
   ],
   "source": [
    "sns.countplot(titanic_train[\"Age_Class\"])"
   ]
  },
  {
   "cell_type": "code",
   "execution_count": 29,
   "id": "5d219df0",
   "metadata": {
    "execution": {
     "iopub.execute_input": "2022-05-19T16:33:30.936925Z",
     "iopub.status.busy": "2022-05-19T16:33:30.936554Z",
     "iopub.status.idle": "2022-05-19T16:33:30.945209Z",
     "shell.execute_reply": "2022-05-19T16:33:30.944699Z"
    },
    "papermill": {
     "duration": 0.072372,
     "end_time": "2022-05-19T16:33:30.946934",
     "exception": false,
     "start_time": "2022-05-19T16:33:30.874562",
     "status": "completed"
    },
    "tags": []
   },
   "outputs": [
    {
     "data": {
      "text/plain": [
       "Age_Class  Sex     Survived\n",
       "0          female  1            53\n",
       "                   0            24\n",
       "           male    0            73\n",
       "                   1            29\n",
       "1          female  1           143\n",
       "                   0            46\n",
       "           male    0           311\n",
       "                   1            62\n",
       "2          female  1            34\n",
       "                   0            11\n",
       "           male    0            67\n",
       "                   1            16\n",
       "3          female  1             3\n",
       "           male    0            17\n",
       "                   1             2\n",
       "Name: Survived, dtype: int64"
      ]
     },
     "execution_count": 29,
     "metadata": {},
     "output_type": "execute_result"
    }
   ],
   "source": [
    "titanic_train.groupby([\"Age_Class\",\"Sex\"])[\"Survived\"].value_counts()"
   ]
  },
  {
   "cell_type": "code",
   "execution_count": 30,
   "id": "0fe859db",
   "metadata": {
    "execution": {
     "iopub.execute_input": "2022-05-19T16:33:31.138534Z",
     "iopub.status.busy": "2022-05-19T16:33:31.138096Z",
     "iopub.status.idle": "2022-05-19T16:33:31.146908Z",
     "shell.execute_reply": "2022-05-19T16:33:31.146279Z"
    },
    "papermill": {
     "duration": 0.105863,
     "end_time": "2022-05-19T16:33:31.148312",
     "exception": false,
     "start_time": "2022-05-19T16:33:31.042449",
     "status": "completed"
    },
    "tags": []
   },
   "outputs": [
    {
     "data": {
      "text/plain": [
       "Age_Class  Pclass  Survived\n",
       "0          1       1            17\n",
       "                   0             4\n",
       "           2       1            26\n",
       "                   0             9\n",
       "           3       0            84\n",
       "                   1            39\n",
       "1          1       1            80\n",
       "                   0            39\n",
       "           2       0            67\n",
       "                   1            48\n",
       "           3       0           251\n",
       "                   1            77\n",
       "2          1       1            36\n",
       "                   0            26\n",
       "           2       0            19\n",
       "                   1            12\n",
       "           3       0            33\n",
       "                   1             2\n",
       "3          1       0            11\n",
       "                   1             3\n",
       "           2       0             2\n",
       "                   1             1\n",
       "           3       0             4\n",
       "                   1             1\n",
       "Name: Survived, dtype: int64"
      ]
     },
     "execution_count": 30,
     "metadata": {},
     "output_type": "execute_result"
    }
   ],
   "source": [
    "titanic_train.groupby([\"Age_Class\",\"Pclass\"])[\"Survived\"].value_counts()"
   ]
  },
  {
   "cell_type": "code",
   "execution_count": 31,
   "id": "df13fae6",
   "metadata": {
    "execution": {
     "iopub.execute_input": "2022-05-19T16:33:31.270695Z",
     "iopub.status.busy": "2022-05-19T16:33:31.270435Z",
     "iopub.status.idle": "2022-05-19T16:33:31.283633Z",
     "shell.execute_reply": "2022-05-19T16:33:31.283131Z"
    },
    "papermill": {
     "duration": 0.075421,
     "end_time": "2022-05-19T16:33:31.284951",
     "exception": false,
     "start_time": "2022-05-19T16:33:31.209530",
     "status": "completed"
    },
    "tags": []
   },
   "outputs": [
    {
     "data": {
      "text/html": [
       "<div>\n",
       "<style scoped>\n",
       "    .dataframe tbody tr th:only-of-type {\n",
       "        vertical-align: middle;\n",
       "    }\n",
       "\n",
       "    .dataframe tbody tr th {\n",
       "        vertical-align: top;\n",
       "    }\n",
       "\n",
       "    .dataframe thead th {\n",
       "        text-align: right;\n",
       "    }\n",
       "</style>\n",
       "<table border=\"1\" class=\"dataframe\">\n",
       "  <thead>\n",
       "    <tr style=\"text-align: right;\">\n",
       "      <th></th>\n",
       "      <th>PassengerId</th>\n",
       "      <th>Survived</th>\n",
       "      <th>Pclass</th>\n",
       "      <th>Sex</th>\n",
       "      <th>Age</th>\n",
       "      <th>SibSp</th>\n",
       "      <th>Parch</th>\n",
       "      <th>Fare</th>\n",
       "      <th>Embarked</th>\n",
       "      <th>Age_Class</th>\n",
       "    </tr>\n",
       "  </thead>\n",
       "  <tbody>\n",
       "    <tr>\n",
       "      <th>0</th>\n",
       "      <td>1</td>\n",
       "      <td>0</td>\n",
       "      <td>3</td>\n",
       "      <td>0</td>\n",
       "      <td>22.0</td>\n",
       "      <td>1</td>\n",
       "      <td>0</td>\n",
       "      <td>7.2500</td>\n",
       "      <td>0</td>\n",
       "      <td>1</td>\n",
       "    </tr>\n",
       "    <tr>\n",
       "      <th>1</th>\n",
       "      <td>2</td>\n",
       "      <td>1</td>\n",
       "      <td>1</td>\n",
       "      <td>1</td>\n",
       "      <td>38.0</td>\n",
       "      <td>1</td>\n",
       "      <td>0</td>\n",
       "      <td>71.2833</td>\n",
       "      <td>2</td>\n",
       "      <td>1</td>\n",
       "    </tr>\n",
       "    <tr>\n",
       "      <th>2</th>\n",
       "      <td>3</td>\n",
       "      <td>1</td>\n",
       "      <td>3</td>\n",
       "      <td>1</td>\n",
       "      <td>26.0</td>\n",
       "      <td>0</td>\n",
       "      <td>0</td>\n",
       "      <td>7.9250</td>\n",
       "      <td>0</td>\n",
       "      <td>1</td>\n",
       "    </tr>\n",
       "    <tr>\n",
       "      <th>3</th>\n",
       "      <td>4</td>\n",
       "      <td>1</td>\n",
       "      <td>1</td>\n",
       "      <td>1</td>\n",
       "      <td>35.0</td>\n",
       "      <td>1</td>\n",
       "      <td>0</td>\n",
       "      <td>53.1000</td>\n",
       "      <td>0</td>\n",
       "      <td>1</td>\n",
       "    </tr>\n",
       "    <tr>\n",
       "      <th>4</th>\n",
       "      <td>5</td>\n",
       "      <td>0</td>\n",
       "      <td>3</td>\n",
       "      <td>0</td>\n",
       "      <td>35.0</td>\n",
       "      <td>0</td>\n",
       "      <td>0</td>\n",
       "      <td>8.0500</td>\n",
       "      <td>0</td>\n",
       "      <td>1</td>\n",
       "    </tr>\n",
       "  </tbody>\n",
       "</table>\n",
       "</div>"
      ],
      "text/plain": [
       "   PassengerId  Survived  Pclass  Sex   Age  SibSp  Parch     Fare  Embarked  \\\n",
       "0            1         0       3    0  22.0      1      0   7.2500         0   \n",
       "1            2         1       1    1  38.0      1      0  71.2833         2   \n",
       "2            3         1       3    1  26.0      0      0   7.9250         0   \n",
       "3            4         1       1    1  35.0      1      0  53.1000         0   \n",
       "4            5         0       3    0  35.0      0      0   8.0500         0   \n",
       "\n",
       "   Age_Class  \n",
       "0          1  \n",
       "1          1  \n",
       "2          1  \n",
       "3          1  \n",
       "4          1  "
      ]
     },
     "execution_count": 31,
     "metadata": {},
     "output_type": "execute_result"
    }
   ],
   "source": [
    "titanic_train[\"Sex\"].replace({\"male\":0,\"female\":1},inplace=True)  ## label encoding\n",
    "titanic_test[\"Sex\"].replace({\"male\":0,\"female\":1},inplace=True)  ## label encoding\n",
    "titanic_train.head(5)"
   ]
  },
  {
   "cell_type": "code",
   "execution_count": 32,
   "id": "725bedff",
   "metadata": {
    "execution": {
     "iopub.execute_input": "2022-05-19T16:33:31.408467Z",
     "iopub.status.busy": "2022-05-19T16:33:31.408225Z",
     "iopub.status.idle": "2022-05-19T16:33:31.412859Z",
     "shell.execute_reply": "2022-05-19T16:33:31.412381Z"
    },
    "papermill": {
     "duration": 0.068068,
     "end_time": "2022-05-19T16:33:31.414162",
     "exception": false,
     "start_time": "2022-05-19T16:33:31.346094",
     "status": "completed"
    },
    "tags": []
   },
   "outputs": [
    {
     "data": {
      "text/plain": [
       "Index(['PassengerId', 'Pclass', 'Sex', 'Age', 'SibSp', 'Parch', 'Fare',\n",
       "       'Embarked', 'Age_Class'],\n",
       "      dtype='object')"
      ]
     },
     "execution_count": 32,
     "metadata": {},
     "output_type": "execute_result"
    }
   ],
   "source": [
    "titanic_test.head(5)\n",
    "titanic_test.columns"
   ]
  },
  {
   "cell_type": "code",
   "execution_count": 33,
   "id": "df24ffba",
   "metadata": {
    "execution": {
     "iopub.execute_input": "2022-05-19T16:33:31.539222Z",
     "iopub.status.busy": "2022-05-19T16:33:31.538814Z",
     "iopub.status.idle": "2022-05-19T16:33:31.595130Z",
     "shell.execute_reply": "2022-05-19T16:33:31.594590Z"
    },
    "papermill": {
     "duration": 0.120608,
     "end_time": "2022-05-19T16:33:31.596920",
     "exception": false,
     "start_time": "2022-05-19T16:33:31.476312",
     "status": "completed"
    },
    "tags": []
   },
   "outputs": [],
   "source": [
    "# Splitting the dataset on training and validating\n",
    "from sklearn.model_selection import train_test_split\n",
    "\n",
    "X = titanic_train.drop(\"Survived\", axis=1)\n",
    "y = titanic_train[\"Survived\"]\n",
    "\n",
    "X_train, X_val, y_train, y_val = train_test_split(X, y, test_size=0.2, random_state=42)"
   ]
  },
  {
   "cell_type": "code",
   "execution_count": 34,
   "id": "cef8fd4d",
   "metadata": {
    "execution": {
     "iopub.execute_input": "2022-05-19T16:33:31.725693Z",
     "iopub.status.busy": "2022-05-19T16:33:31.725278Z",
     "iopub.status.idle": "2022-05-19T16:33:32.176681Z",
     "shell.execute_reply": "2022-05-19T16:33:32.176000Z"
    },
    "papermill": {
     "duration": 0.518142,
     "end_time": "2022-05-19T16:33:32.178502",
     "exception": false,
     "start_time": "2022-05-19T16:33:31.660360",
     "status": "completed"
    },
    "tags": []
   },
   "outputs": [],
   "source": [
    "\n",
    "from sklearn.ensemble import RandomForestClassifier\n",
    "from sklearn.neighbors import KNeighborsClassifier\n",
    "from sklearn.svm import LinearSVC\n",
    "from sklearn.svm import SVC\n",
    "from sklearn.linear_model import LogisticRegression\n",
    "import xgboost as xgb\n",
    "\n",
    "from sklearn.model_selection import GridSearchCV\n",
    "from sklearn.model_selection import cross_val_score"
   ]
  },
  {
   "cell_type": "code",
   "execution_count": 35,
   "id": "439d0081",
   "metadata": {
    "execution": {
     "iopub.execute_input": "2022-05-19T16:33:32.304392Z",
     "iopub.status.busy": "2022-05-19T16:33:32.304130Z",
     "iopub.status.idle": "2022-05-19T16:33:32.309210Z",
     "shell.execute_reply": "2022-05-19T16:33:32.308598Z"
    },
    "papermill": {
     "duration": 0.069174,
     "end_time": "2022-05-19T16:33:32.310666",
     "exception": false,
     "start_time": "2022-05-19T16:33:32.241492",
     "status": "completed"
    },
    "tags": []
   },
   "outputs": [],
   "source": [
    "# Create dictionary of models\n",
    "models = {\"LinearSVC\": LinearSVC(),\n",
    "          \"KNN\": KNeighborsClassifier(),\n",
    "          \"SVC\": SVC(),\n",
    "          \"LogisticRegression\": LogisticRegression(),\n",
    "          \"RandomForestClassifier\": RandomForestClassifier(),\n",
    "          \"XGBoost\": xgb.XGBClassifier(use_label_encoder=False)}\n",
    "\n",
    "\n",
    "# Create an empty dictionary for results\n",
    "results = {}"
   ]
  },
  {
   "cell_type": "code",
   "execution_count": 36,
   "id": "71a817e1",
   "metadata": {
    "execution": {
     "iopub.execute_input": "2022-05-19T16:33:32.437301Z",
     "iopub.status.busy": "2022-05-19T16:33:32.437077Z",
     "iopub.status.idle": "2022-05-19T16:33:33.102522Z",
     "shell.execute_reply": "2022-05-19T16:33:33.101999Z"
    },
    "papermill": {
     "duration": 0.730612,
     "end_time": "2022-05-19T16:33:33.104189",
     "exception": false,
     "start_time": "2022-05-19T16:33:32.373577",
     "status": "completed"
    },
    "tags": []
   },
   "outputs": [
    {
     "name": "stderr",
     "output_type": "stream",
     "text": [
      "/opt/conda/lib/python3.7/site-packages/sklearn/svm/_base.py:1208: ConvergenceWarning: Liblinear failed to converge, increase the number of iterations.\n",
      "  ConvergenceWarning,\n",
      "/opt/conda/lib/python3.7/site-packages/sklearn/linear_model/_logistic.py:818: ConvergenceWarning: lbfgs failed to converge (status=1):\n",
      "STOP: TOTAL NO. of ITERATIONS REACHED LIMIT.\n",
      "\n",
      "Increase the number of iterations (max_iter) or scale the data as shown in:\n",
      "    https://scikit-learn.org/stable/modules/preprocessing.html\n",
      "Please also refer to the documentation for alternative solver options:\n",
      "    https://scikit-learn.org/stable/modules/linear_model.html#logistic-regression\n",
      "  extra_warning_msg=_LOGISTIC_SOLVER_CONVERGENCE_MSG,\n"
     ]
    },
    {
     "data": {
      "text/plain": [
       "{'LinearSVC': 0.6368715083798883,\n",
       " 'KNN': 0.659217877094972,\n",
       " 'SVC': 0.5977653631284916,\n",
       " 'LogisticRegression': 0.7932960893854749,\n",
       " 'RandomForestClassifier': 0.8268156424581006,\n",
       " 'XGBoost': 0.7932960893854749}"
      ]
     },
     "execution_count": 36,
     "metadata": {},
     "output_type": "execute_result"
    }
   ],
   "source": [
    "# Fit and score each model\n",
    "for model_name, model in models.items():\n",
    "    model.fit(X_train, y_train)\n",
    "    results[model_name] = model.score(X_val, y_val)\n",
    "\n",
    "# View the results\n",
    "results"
   ]
  },
  {
   "cell_type": "code",
   "execution_count": 37,
   "id": "911c5a34",
   "metadata": {
    "execution": {
     "iopub.execute_input": "2022-05-19T16:33:33.232666Z",
     "iopub.status.busy": "2022-05-19T16:33:33.232190Z",
     "iopub.status.idle": "2022-05-19T16:33:36.059544Z",
     "shell.execute_reply": "2022-05-19T16:33:36.059039Z"
    },
    "papermill": {
     "duration": 2.893601,
     "end_time": "2022-05-19T16:33:36.061292",
     "exception": false,
     "start_time": "2022-05-19T16:33:33.167691",
     "status": "completed"
    },
    "tags": []
   },
   "outputs": [
    {
     "data": {
      "text/plain": [
       "({'algorithm': 'auto', 'n_neighbors': 20, 'weights': 'uniform'},\n",
       " 0.6670737712991234)"
      ]
     },
     "execution_count": 37,
     "metadata": {},
     "output_type": "execute_result"
    }
   ],
   "source": [
    "# Tune hyperparams of KNN\n",
    "# Create dict for KNN params\n",
    "param_knn = {'n_neighbors': [5, 7, 8, 9, 10, 12, 15, 20],\n",
    "             'weights': ['uniform', 'distance'],\n",
    "             'algorithm': ['auto', 'ball_tree', 'kd_tree', 'brute']}\n",
    "\n",
    "# Setup the grid search\n",
    "grid_knn = GridSearchCV(KNeighborsClassifier(),\n",
    "                        param_knn,\n",
    "                        cv=5)\n",
    "\n",
    "# Fit the grid search to the data\n",
    "grid_knn.fit(X_train, y_train)\n",
    "\n",
    "# Find the best parameters\n",
    "grid_knn.best_params_, grid_knn.best_score_"
   ]
  },
  {
   "cell_type": "code",
   "execution_count": 38,
   "id": "0e1ccad6",
   "metadata": {
    "execution": {
     "iopub.execute_input": "2022-05-19T16:33:36.269213Z",
     "iopub.status.busy": "2022-05-19T16:33:36.269012Z",
     "iopub.status.idle": "2022-05-19T16:33:36.280162Z",
     "shell.execute_reply": "2022-05-19T16:33:36.279597Z"
    },
    "papermill": {
     "duration": 0.110529,
     "end_time": "2022-05-19T16:33:36.281700",
     "exception": false,
     "start_time": "2022-05-19T16:33:36.171171",
     "status": "completed"
    },
    "tags": []
   },
   "outputs": [
    {
     "data": {
      "text/plain": [
       "0.6759776536312849"
      ]
     },
     "execution_count": 38,
     "metadata": {},
     "output_type": "execute_result"
    }
   ],
   "source": [
    "# Check score on validating data\n",
    "grid_knn.best_estimator_.score(X_val, y_val)"
   ]
  },
  {
   "cell_type": "code",
   "execution_count": 39,
   "id": "b9d81acb",
   "metadata": {
    "execution": {
     "iopub.execute_input": "2022-05-19T16:33:36.408554Z",
     "iopub.status.busy": "2022-05-19T16:33:36.408309Z",
     "iopub.status.idle": "2022-05-19T16:33:36.433632Z",
     "shell.execute_reply": "2022-05-19T16:33:36.433095Z"
    },
    "papermill": {
     "duration": 0.090688,
     "end_time": "2022-05-19T16:33:36.435058",
     "exception": false,
     "start_time": "2022-05-19T16:33:36.344370",
     "status": "completed"
    },
    "tags": []
   },
   "outputs": [
    {
     "data": {
      "text/plain": [
       "array([0, 0, 0, 0, 0, 0, 0, 0, 0, 0, 0, 0, 0, 0, 0, 0, 0, 0, 0, 0, 0, 0,\n",
       "       0, 0, 1, 0, 0, 0, 0, 0, 0, 0, 0, 0, 0, 0, 0, 0, 0, 0, 0, 0, 0, 0,\n",
       "       0, 0, 0, 0, 0, 0, 0, 0, 0, 1, 0, 0, 0, 0, 0, 1, 0, 0, 0, 0, 1, 0,\n",
       "       0, 0, 0, 1, 0, 0, 0, 0, 1, 1, 0, 0, 0, 0, 0, 1, 0, 0, 0, 0, 0, 0,\n",
       "       0, 0, 0, 0, 0, 0, 0, 0, 0, 0, 0, 0, 0, 0, 0, 0, 0, 0, 0, 0, 0, 0,\n",
       "       0, 0, 0, 0, 1, 0, 0, 0, 0, 0, 0, 0, 0, 0, 0, 0, 0, 0, 0, 0, 0, 0,\n",
       "       0, 0, 0, 0, 0, 0, 0, 0, 0, 0, 1, 0, 0, 0, 0, 0, 0, 0, 0, 0, 0, 0,\n",
       "       0, 0, 0, 0, 0, 0, 0, 0, 0, 0, 0, 0, 0, 0, 0, 0, 0, 0, 0, 0, 0, 0,\n",
       "       0, 0, 0, 0, 0, 0, 0, 0, 0, 0, 0, 0, 0, 0, 0, 0, 0, 0, 0, 0, 0, 0,\n",
       "       0, 0, 0, 0, 0, 0, 0, 0, 0, 0, 0, 0, 0, 0, 0, 0, 0, 0, 0, 0, 0, 0,\n",
       "       0, 0, 0, 0, 0, 0, 0, 0, 0, 0, 0, 0, 0, 0, 0, 0, 0, 0, 0, 0, 0, 0,\n",
       "       0, 0, 0, 0, 0, 0, 0, 0, 0, 0, 0, 0, 0, 0, 0, 0, 0, 0, 0, 0, 0, 0,\n",
       "       0, 0, 0, 0, 0, 0, 0, 0, 0, 0, 0, 0, 0, 0, 0, 0, 0, 0, 0, 0, 0, 0,\n",
       "       0, 0, 0, 0, 0, 0, 0, 0, 0, 0, 0, 0, 0, 0, 0, 0, 0, 0, 0, 0, 0, 0,\n",
       "       0, 0, 0, 0, 0, 0, 0, 0, 0, 0, 0, 0, 0, 0, 0, 0, 0, 0, 0, 0, 0, 0,\n",
       "       0, 0, 0, 0, 0, 0, 0, 0, 0, 0, 0, 0, 0, 1, 0, 0, 0, 0, 0, 0, 0, 0,\n",
       "       0, 0, 0, 0, 0, 0, 0, 0, 0, 0, 0, 0, 0, 0, 0, 0, 0, 0, 0, 0, 0, 0,\n",
       "       0, 0, 0, 0, 0, 0, 0, 0, 0, 0, 0, 0, 0, 0, 0, 0, 0, 0, 0, 0, 0, 0,\n",
       "       0, 0, 0, 0, 0, 0, 0, 0, 0, 0, 0, 0, 0, 0, 0, 0, 0, 0, 0, 0, 0, 0])"
      ]
     },
     "execution_count": 39,
     "metadata": {},
     "output_type": "execute_result"
    }
   ],
   "source": [
    "preds = grid_knn.best_estimator_.predict(titanic_test)\n",
    "preds"
   ]
  },
  {
   "cell_type": "code",
   "execution_count": 40,
   "id": "01622773",
   "metadata": {
    "execution": {
     "iopub.execute_input": "2022-05-19T16:33:36.561529Z",
     "iopub.status.busy": "2022-05-19T16:33:36.561255Z",
     "iopub.status.idle": "2022-05-19T16:33:36.572060Z",
     "shell.execute_reply": "2022-05-19T16:33:36.571245Z"
    },
    "papermill": {
     "duration": 0.075793,
     "end_time": "2022-05-19T16:33:36.573638",
     "exception": false,
     "start_time": "2022-05-19T16:33:36.497845",
     "status": "completed"
    },
    "tags": []
   },
   "outputs": [
    {
     "data": {
      "text/html": [
       "<div>\n",
       "<style scoped>\n",
       "    .dataframe tbody tr th:only-of-type {\n",
       "        vertical-align: middle;\n",
       "    }\n",
       "\n",
       "    .dataframe tbody tr th {\n",
       "        vertical-align: top;\n",
       "    }\n",
       "\n",
       "    .dataframe thead th {\n",
       "        text-align: right;\n",
       "    }\n",
       "</style>\n",
       "<table border=\"1\" class=\"dataframe\">\n",
       "  <thead>\n",
       "    <tr style=\"text-align: right;\">\n",
       "      <th></th>\n",
       "      <th>PassengerId</th>\n",
       "      <th>Survived</th>\n",
       "    </tr>\n",
       "  </thead>\n",
       "  <tbody>\n",
       "    <tr>\n",
       "      <th>0</th>\n",
       "      <td>892</td>\n",
       "      <td>0</td>\n",
       "    </tr>\n",
       "    <tr>\n",
       "      <th>1</th>\n",
       "      <td>893</td>\n",
       "      <td>0</td>\n",
       "    </tr>\n",
       "    <tr>\n",
       "      <th>2</th>\n",
       "      <td>894</td>\n",
       "      <td>0</td>\n",
       "    </tr>\n",
       "    <tr>\n",
       "      <th>3</th>\n",
       "      <td>895</td>\n",
       "      <td>0</td>\n",
       "    </tr>\n",
       "    <tr>\n",
       "      <th>4</th>\n",
       "      <td>896</td>\n",
       "      <td>0</td>\n",
       "    </tr>\n",
       "    <tr>\n",
       "      <th>5</th>\n",
       "      <td>897</td>\n",
       "      <td>0</td>\n",
       "    </tr>\n",
       "    <tr>\n",
       "      <th>6</th>\n",
       "      <td>898</td>\n",
       "      <td>0</td>\n",
       "    </tr>\n",
       "    <tr>\n",
       "      <th>7</th>\n",
       "      <td>899</td>\n",
       "      <td>0</td>\n",
       "    </tr>\n",
       "    <tr>\n",
       "      <th>8</th>\n",
       "      <td>900</td>\n",
       "      <td>0</td>\n",
       "    </tr>\n",
       "    <tr>\n",
       "      <th>9</th>\n",
       "      <td>901</td>\n",
       "      <td>0</td>\n",
       "    </tr>\n",
       "  </tbody>\n",
       "</table>\n",
       "</div>"
      ],
      "text/plain": [
       "   PassengerId  Survived\n",
       "0          892         0\n",
       "1          893         0\n",
       "2          894         0\n",
       "3          895         0\n",
       "4          896         0\n",
       "5          897         0\n",
       "6          898         0\n",
       "7          899         0\n",
       "8          900         0\n",
       "9          901         0"
      ]
     },
     "execution_count": 40,
     "metadata": {},
     "output_type": "execute_result"
    }
   ],
   "source": [
    "passenger_id=titanic_test[\"PassengerId\"]\n",
    "\n",
    "d = { 'PassengerId': passenger_id,'Survived': preds} \n",
    "     \n",
    "prediction_df = pd.DataFrame(d)\n",
    "prediction_df.head(10)"
   ]
  },
  {
   "cell_type": "code",
   "execution_count": 41,
   "id": "accc7ba6",
   "metadata": {
    "execution": {
     "iopub.execute_input": "2022-05-19T16:33:36.700533Z",
     "iopub.status.busy": "2022-05-19T16:33:36.700156Z",
     "iopub.status.idle": "2022-05-19T16:33:36.910854Z",
     "shell.execute_reply": "2022-05-19T16:33:36.909926Z"
    },
    "papermill": {
     "duration": 0.276214,
     "end_time": "2022-05-19T16:33:36.912859",
     "exception": false,
     "start_time": "2022-05-19T16:33:36.636645",
     "status": "completed"
    },
    "tags": []
   },
   "outputs": [
    {
     "name": "stdout",
     "output_type": "stream",
     "text": [
      "Accuracy 0.581325717155232\n",
      "Recall 0.28499573742540496\n",
      "Precision 0.6032268632268633\n",
      "F1 0.28945782620759386\n"
     ]
    }
   ],
   "source": [
    "# Check all metrics on full data\n",
    "print(f\"Accuracy {np.mean(cross_val_score(grid_knn.best_estimator_, X, y, cv=5, scoring='accuracy'))}\")\n",
    "print(f\"Recall {np.mean(cross_val_score(grid_knn.best_estimator_, X, y, cv=5, scoring='recall'))}\")\n",
    "print(f\"Precision {np.mean(cross_val_score(grid_knn.best_estimator_, X, y, cv=5, scoring='precision'))}\")\n",
    "print(f\"F1 {np.mean(cross_val_score(grid_knn.best_estimator_, X, y, cv=5, scoring='f1'))}\")"
   ]
  },
  {
   "cell_type": "code",
   "execution_count": 42,
   "id": "216ce414",
   "metadata": {
    "execution": {
     "iopub.execute_input": "2022-05-19T16:33:37.062700Z",
     "iopub.status.busy": "2022-05-19T16:33:37.061914Z",
     "iopub.status.idle": "2022-05-19T16:35:20.906924Z",
     "shell.execute_reply": "2022-05-19T16:35:20.906282Z"
    },
    "papermill": {
     "duration": 104.012477,
     "end_time": "2022-05-19T16:35:21.009271",
     "exception": false,
     "start_time": "2022-05-19T16:33:36.996794",
     "status": "completed"
    },
    "tags": []
   },
   "outputs": [
    {
     "data": {
      "text/plain": [
       "({'max_depth': 7, 'n_estimators': 96}, 0.8257854821235103)"
      ]
     },
     "execution_count": 42,
     "metadata": {},
     "output_type": "execute_result"
    }
   ],
   "source": [
    "# Tune hyperparams of RandomForestClassifier\n",
    "# Create dict for RandomForestClassifier params\n",
    "param_RFC = {'n_estimators': [i for i in range(1, 101, 5)],\n",
    "             'max_depth': [i for i in range(1, 31, 3)]}\n",
    "\n",
    "# Setup the grid search\n",
    "grid_RFC = GridSearchCV(RandomForestClassifier(random_state=42),\n",
    "                        param_RFC,\n",
    "                        cv=5)\n",
    "\n",
    "# Fit the grid search to the data\n",
    "grid_RFC.fit(X_train, y_train)\n",
    "\n",
    "# Find the best parameters\n",
    "grid_RFC.best_params_, grid_RFC.best_score_"
   ]
  },
  {
   "cell_type": "code",
   "execution_count": 43,
   "id": "8bfff22b",
   "metadata": {
    "execution": {
     "iopub.execute_input": "2022-05-19T16:35:21.211598Z",
     "iopub.status.busy": "2022-05-19T16:35:21.211370Z",
     "iopub.status.idle": "2022-05-19T16:35:21.235744Z",
     "shell.execute_reply": "2022-05-19T16:35:21.234996Z"
    },
    "papermill": {
     "duration": 0.126768,
     "end_time": "2022-05-19T16:35:21.237242",
     "exception": false,
     "start_time": "2022-05-19T16:35:21.110474",
     "status": "completed"
    },
    "tags": []
   },
   "outputs": [
    {
     "data": {
      "text/plain": [
       "array([0, 0, 0, 0, 0, 0, 1, 0, 1, 0, 0, 0, 1, 0, 1, 1, 0, 0, 0, 1, 1, 1,\n",
       "       1, 0, 1, 0, 1, 0, 0, 0, 0, 0, 1, 0, 0, 0, 0, 0, 0, 0, 0, 0, 0, 1,\n",
       "       1, 0, 0, 0, 1, 1, 0, 0, 1, 1, 0, 0, 0, 0, 0, 1, 0, 0, 0, 1, 1, 1,\n",
       "       1, 0, 0, 1, 1, 0, 0, 0, 1, 0, 0, 1, 0, 1, 1, 0, 0, 0, 0, 0, 1, 0,\n",
       "       1, 1, 0, 0, 1, 0, 0, 0, 1, 0, 0, 0, 1, 0, 0, 0, 1, 0, 0, 0, 0, 0,\n",
       "       0, 1, 1, 1, 1, 0, 0, 1, 0, 1, 1, 0, 1, 0, 0, 1, 0, 1, 0, 0, 0, 0,\n",
       "       0, 0, 0, 0, 0, 0, 0, 0, 0, 1, 0, 0, 0, 0, 0, 0, 0, 0, 1, 0, 0, 0,\n",
       "       0, 0, 1, 0, 0, 0, 1, 1, 1, 0, 0, 0, 0, 0, 1, 0, 0, 0, 0, 0, 0, 1,\n",
       "       1, 1, 1, 1, 0, 1, 1, 0, 1, 0, 1, 0, 0, 0, 0, 0, 0, 0, 1, 0, 1, 0,\n",
       "       0, 0, 1, 1, 0, 1, 0, 0, 1, 0, 1, 0, 0, 0, 0, 1, 0, 0, 1, 0, 1, 0,\n",
       "       1, 0, 1, 0, 1, 1, 0, 1, 0, 0, 0, 1, 0, 0, 0, 0, 0, 0, 1, 1, 1, 1,\n",
       "       0, 0, 0, 0, 1, 0, 1, 1, 1, 0, 1, 0, 0, 0, 0, 0, 1, 0, 0, 0, 1, 1,\n",
       "       0, 0, 0, 0, 0, 0, 0, 0, 1, 1, 0, 1, 0, 0, 0, 0, 0, 1, 1, 1, 1, 0,\n",
       "       0, 0, 0, 0, 0, 1, 0, 0, 0, 0, 1, 0, 0, 0, 0, 0, 0, 0, 1, 1, 0, 1,\n",
       "       0, 0, 0, 0, 0, 1, 1, 1, 0, 0, 0, 0, 0, 0, 0, 0, 1, 0, 1, 0, 0, 0,\n",
       "       1, 0, 0, 1, 0, 0, 0, 0, 0, 0, 0, 0, 0, 1, 0, 1, 0, 1, 0, 1, 1, 0,\n",
       "       0, 0, 1, 0, 1, 0, 0, 0, 0, 1, 1, 0, 1, 0, 0, 0, 1, 0, 0, 1, 0, 0,\n",
       "       1, 1, 0, 0, 0, 0, 0, 0, 0, 0, 0, 1, 0, 0, 0, 0, 0, 1, 0, 0, 0, 1,\n",
       "       0, 1, 0, 0, 1, 0, 1, 0, 0, 0, 0, 0, 1, 1, 1, 1, 0, 0, 1, 0, 0, 0])"
      ]
     },
     "execution_count": 43,
     "metadata": {},
     "output_type": "execute_result"
    }
   ],
   "source": [
    "preds = grid_RFC.best_estimator_.predict(titanic_test)\n",
    "preds"
   ]
  },
  {
   "cell_type": "code",
   "execution_count": 44,
   "id": "8703a360",
   "metadata": {
    "execution": {
     "iopub.execute_input": "2022-05-19T16:35:21.370569Z",
     "iopub.status.busy": "2022-05-19T16:35:21.370040Z",
     "iopub.status.idle": "2022-05-19T16:35:21.379221Z",
     "shell.execute_reply": "2022-05-19T16:35:21.378165Z"
    },
    "papermill": {
     "duration": 0.077379,
     "end_time": "2022-05-19T16:35:21.380711",
     "exception": false,
     "start_time": "2022-05-19T16:35:21.303332",
     "status": "completed"
    },
    "tags": []
   },
   "outputs": [
    {
     "name": "stdout",
     "output_type": "stream",
     "text": [
      "<class 'pandas.core.frame.DataFrame'>\n",
      "Int64Index: 418 entries, 0 to 417\n",
      "Data columns (total 9 columns):\n",
      " #   Column       Non-Null Count  Dtype  \n",
      "---  ------       --------------  -----  \n",
      " 0   PassengerId  418 non-null    int64  \n",
      " 1   Pclass       418 non-null    int64  \n",
      " 2   Sex          418 non-null    int64  \n",
      " 3   Age          418 non-null    float64\n",
      " 4   SibSp        418 non-null    int64  \n",
      " 5   Parch        418 non-null    int64  \n",
      " 6   Fare         418 non-null    float64\n",
      " 7   Embarked     418 non-null    int64  \n",
      " 8   Age_Class    418 non-null    int64  \n",
      "dtypes: float64(2), int64(7)\n",
      "memory usage: 32.7 KB\n"
     ]
    }
   ],
   "source": [
    "titanic_test.info()"
   ]
  },
  {
   "cell_type": "code",
   "execution_count": 45,
   "id": "5ba8afbf",
   "metadata": {
    "execution": {
     "iopub.execute_input": "2022-05-19T16:35:21.547128Z",
     "iopub.status.busy": "2022-05-19T16:35:21.546898Z",
     "iopub.status.idle": "2022-05-19T16:35:21.555589Z",
     "shell.execute_reply": "2022-05-19T16:35:21.554747Z"
    },
    "papermill": {
     "duration": 0.112364,
     "end_time": "2022-05-19T16:35:21.557871",
     "exception": false,
     "start_time": "2022-05-19T16:35:21.445507",
     "status": "completed"
    },
    "tags": []
   },
   "outputs": [
    {
     "data": {
      "text/html": [
       "<div>\n",
       "<style scoped>\n",
       "    .dataframe tbody tr th:only-of-type {\n",
       "        vertical-align: middle;\n",
       "    }\n",
       "\n",
       "    .dataframe tbody tr th {\n",
       "        vertical-align: top;\n",
       "    }\n",
       "\n",
       "    .dataframe thead th {\n",
       "        text-align: right;\n",
       "    }\n",
       "</style>\n",
       "<table border=\"1\" class=\"dataframe\">\n",
       "  <thead>\n",
       "    <tr style=\"text-align: right;\">\n",
       "      <th></th>\n",
       "      <th>PassengerId</th>\n",
       "      <th>Survived</th>\n",
       "    </tr>\n",
       "  </thead>\n",
       "  <tbody>\n",
       "    <tr>\n",
       "      <th>0</th>\n",
       "      <td>892</td>\n",
       "      <td>0</td>\n",
       "    </tr>\n",
       "    <tr>\n",
       "      <th>1</th>\n",
       "      <td>893</td>\n",
       "      <td>0</td>\n",
       "    </tr>\n",
       "    <tr>\n",
       "      <th>2</th>\n",
       "      <td>894</td>\n",
       "      <td>0</td>\n",
       "    </tr>\n",
       "    <tr>\n",
       "      <th>3</th>\n",
       "      <td>895</td>\n",
       "      <td>0</td>\n",
       "    </tr>\n",
       "    <tr>\n",
       "      <th>4</th>\n",
       "      <td>896</td>\n",
       "      <td>0</td>\n",
       "    </tr>\n",
       "    <tr>\n",
       "      <th>5</th>\n",
       "      <td>897</td>\n",
       "      <td>0</td>\n",
       "    </tr>\n",
       "    <tr>\n",
       "      <th>6</th>\n",
       "      <td>898</td>\n",
       "      <td>1</td>\n",
       "    </tr>\n",
       "    <tr>\n",
       "      <th>7</th>\n",
       "      <td>899</td>\n",
       "      <td>0</td>\n",
       "    </tr>\n",
       "    <tr>\n",
       "      <th>8</th>\n",
       "      <td>900</td>\n",
       "      <td>1</td>\n",
       "    </tr>\n",
       "    <tr>\n",
       "      <th>9</th>\n",
       "      <td>901</td>\n",
       "      <td>0</td>\n",
       "    </tr>\n",
       "  </tbody>\n",
       "</table>\n",
       "</div>"
      ],
      "text/plain": [
       "   PassengerId  Survived\n",
       "0          892         0\n",
       "1          893         0\n",
       "2          894         0\n",
       "3          895         0\n",
       "4          896         0\n",
       "5          897         0\n",
       "6          898         1\n",
       "7          899         0\n",
       "8          900         1\n",
       "9          901         0"
      ]
     },
     "execution_count": 45,
     "metadata": {},
     "output_type": "execute_result"
    }
   ],
   "source": [
    "passenger_id=titanic_test[\"PassengerId\"]\n",
    "\n",
    "d = { 'PassengerId': passenger_id,'Survived': preds} \n",
    "     \n",
    "prediction_df = pd.DataFrame(d)\n",
    "prediction_df.head(10)\n",
    "  "
   ]
  },
  {
   "cell_type": "code",
   "execution_count": 46,
   "id": "81128a3a",
   "metadata": {
    "execution": {
     "iopub.execute_input": "2022-05-19T16:35:21.762909Z",
     "iopub.status.busy": "2022-05-19T16:35:21.762696Z",
     "iopub.status.idle": "2022-05-19T16:35:21.766912Z",
     "shell.execute_reply": "2022-05-19T16:35:21.766389Z"
    },
    "papermill": {
     "duration": 0.108512,
     "end_time": "2022-05-19T16:35:21.768682",
     "exception": false,
     "start_time": "2022-05-19T16:35:21.660170",
     "status": "completed"
    },
    "tags": []
   },
   "outputs": [
    {
     "data": {
      "text/plain": [
       "((712, 9), (418, 9))"
      ]
     },
     "execution_count": 46,
     "metadata": {},
     "output_type": "execute_result"
    }
   ],
   "source": [
    "# Check right shape of test data\n",
    "X_train.shape, titanic_test.shape"
   ]
  },
  {
   "cell_type": "code",
   "execution_count": 47,
   "id": "44ab41d1",
   "metadata": {
    "execution": {
     "iopub.execute_input": "2022-05-19T16:35:21.975242Z",
     "iopub.status.busy": "2022-05-19T16:35:21.974565Z",
     "iopub.status.idle": "2022-05-19T16:47:10.202060Z",
     "shell.execute_reply": "2022-05-19T16:47:10.201315Z"
    },
    "papermill": {
     "duration": 708.397221,
     "end_time": "2022-05-19T16:47:10.268553",
     "exception": false,
     "start_time": "2022-05-19T16:35:21.871332",
     "status": "completed"
    },
    "tags": []
   },
   "outputs": [
    {
     "data": {
      "text/plain": [
       "({'gamma': 0,\n",
       "  'learning_rate': 0.1,\n",
       "  'max_depth': 3,\n",
       "  'reg_alpha': 0,\n",
       "  'reg_lambda': 1,\n",
       "  'scale_pos_weight': 1},\n",
       " 0.8370432384516893)"
      ]
     },
     "execution_count": 47,
     "metadata": {},
     "output_type": "execute_result"
    }
   ],
   "source": [
    "# Tune hyperparams of XGBClassifier\n",
    "# Create dict for XGBClassifier params\n",
    "param_xgb = {\n",
    "    \"max_depth\": [3, 5, 9],\n",
    "    \"learning_rate\": [0.01, 0.1, 0.3, 1],\n",
    "    \"gamma\": [0,  1, 3],\n",
    "    \"reg_alpha\": [0, 1, 10],\n",
    "    \"reg_lambda\": [0, 1, 10],\n",
    "    \"scale_pos_weight\": [1, 5]\n",
    "}\n",
    "\n",
    "# Setup the grid search\n",
    "grid_xgb = GridSearchCV(xgb.XGBClassifier(random_state=42, use_label_encoder=False), \n",
    "                        param_xgb,\n",
    "                        cv=5)\n",
    "\n",
    "# Fit the grid search to the data\n",
    "grid_xgb.fit(X_train, y_train)\n",
    "\n",
    "# Find the best parameters\n",
    "grid_xgb.best_params_, grid_xgb.best_score_"
   ]
  },
  {
   "cell_type": "code",
   "execution_count": 48,
   "id": "2e628bf4",
   "metadata": {
    "execution": {
     "iopub.execute_input": "2022-05-19T16:47:10.400480Z",
     "iopub.status.busy": "2022-05-19T16:47:10.400160Z",
     "iopub.status.idle": "2022-05-19T16:47:14.534282Z",
     "shell.execute_reply": "2022-05-19T16:47:14.533799Z"
    },
    "papermill": {
     "duration": 4.202788,
     "end_time": "2022-05-19T16:47:14.535919",
     "exception": false,
     "start_time": "2022-05-19T16:47:10.333131",
     "status": "completed"
    },
    "tags": []
   },
   "outputs": [
    {
     "name": "stdout",
     "output_type": "stream",
     "text": [
      "Accuracy 0.7779612077082418\n",
      "Recall 0.5450980392156863\n"
     ]
    },
    {
     "name": "stderr",
     "output_type": "stream",
     "text": [
      "/opt/conda/lib/python3.7/site-packages/sklearn/metrics/_classification.py:1318: UndefinedMetricWarning: Precision is ill-defined and being set to 0.0 due to no predicted samples. Use `zero_division` parameter to control this behavior.\n",
      "  _warn_prf(average, modifier, msg_start, len(result))\n"
     ]
    },
    {
     "name": "stdout",
     "output_type": "stream",
     "text": [
      "Precision 0.6565520066602614\n",
      "F1 0.5931345656927052\n"
     ]
    }
   ],
   "source": [
    "# Check all metrics on full data\n",
    "print(f\"Accuracy {np.mean(cross_val_score(grid_xgb.best_estimator_, X, y, cv=5, scoring='accuracy'))}\")\n",
    "print(f\"Recall {np.mean(cross_val_score(grid_xgb.best_estimator_, X, y, cv=5, scoring='recall'))}\")\n",
    "print(f\"Precision {np.mean(cross_val_score(grid_xgb.best_estimator_, X, y, cv=5, scoring='precision'))}\")\n",
    "print(f\"F1 {np.mean(cross_val_score(grid_xgb.best_estimator_, X, y, cv=5, scoring='f1'))}\")"
   ]
  },
  {
   "cell_type": "code",
   "execution_count": 49,
   "id": "1b06b34a",
   "metadata": {
    "execution": {
     "iopub.execute_input": "2022-05-19T16:47:14.673826Z",
     "iopub.status.busy": "2022-05-19T16:47:14.673130Z",
     "iopub.status.idle": "2022-05-19T16:47:14.690096Z",
     "shell.execute_reply": "2022-05-19T16:47:14.688959Z"
    },
    "papermill": {
     "duration": 0.087897,
     "end_time": "2022-05-19T16:47:14.691697",
     "exception": false,
     "start_time": "2022-05-19T16:47:14.603800",
     "status": "completed"
    },
    "tags": []
   },
   "outputs": [],
   "source": [
    "# Predict on test data\n",
    "preds1 = grid_xgb.best_estimator_.predict(titanic_test)"
   ]
  },
  {
   "cell_type": "code",
   "execution_count": 50,
   "id": "eb42d122",
   "metadata": {
    "execution": {
     "iopub.execute_input": "2022-05-19T16:47:14.828307Z",
     "iopub.status.busy": "2022-05-19T16:47:14.828081Z",
     "iopub.status.idle": "2022-05-19T16:47:14.836921Z",
     "shell.execute_reply": "2022-05-19T16:47:14.836390Z"
    },
    "papermill": {
     "duration": 0.078135,
     "end_time": "2022-05-19T16:47:14.838265",
     "exception": false,
     "start_time": "2022-05-19T16:47:14.760130",
     "status": "completed"
    },
    "tags": []
   },
   "outputs": [
    {
     "data": {
      "text/html": [
       "<div>\n",
       "<style scoped>\n",
       "    .dataframe tbody tr th:only-of-type {\n",
       "        vertical-align: middle;\n",
       "    }\n",
       "\n",
       "    .dataframe tbody tr th {\n",
       "        vertical-align: top;\n",
       "    }\n",
       "\n",
       "    .dataframe thead th {\n",
       "        text-align: right;\n",
       "    }\n",
       "</style>\n",
       "<table border=\"1\" class=\"dataframe\">\n",
       "  <thead>\n",
       "    <tr style=\"text-align: right;\">\n",
       "      <th></th>\n",
       "      <th>PassengerId</th>\n",
       "      <th>Survived</th>\n",
       "    </tr>\n",
       "  </thead>\n",
       "  <tbody>\n",
       "    <tr>\n",
       "      <th>0</th>\n",
       "      <td>892</td>\n",
       "      <td>0</td>\n",
       "    </tr>\n",
       "    <tr>\n",
       "      <th>1</th>\n",
       "      <td>893</td>\n",
       "      <td>0</td>\n",
       "    </tr>\n",
       "    <tr>\n",
       "      <th>2</th>\n",
       "      <td>894</td>\n",
       "      <td>0</td>\n",
       "    </tr>\n",
       "    <tr>\n",
       "      <th>3</th>\n",
       "      <td>895</td>\n",
       "      <td>0</td>\n",
       "    </tr>\n",
       "    <tr>\n",
       "      <th>4</th>\n",
       "      <td>896</td>\n",
       "      <td>0</td>\n",
       "    </tr>\n",
       "    <tr>\n",
       "      <th>5</th>\n",
       "      <td>897</td>\n",
       "      <td>0</td>\n",
       "    </tr>\n",
       "    <tr>\n",
       "      <th>6</th>\n",
       "      <td>898</td>\n",
       "      <td>1</td>\n",
       "    </tr>\n",
       "    <tr>\n",
       "      <th>7</th>\n",
       "      <td>899</td>\n",
       "      <td>0</td>\n",
       "    </tr>\n",
       "    <tr>\n",
       "      <th>8</th>\n",
       "      <td>900</td>\n",
       "      <td>1</td>\n",
       "    </tr>\n",
       "    <tr>\n",
       "      <th>9</th>\n",
       "      <td>901</td>\n",
       "      <td>0</td>\n",
       "    </tr>\n",
       "  </tbody>\n",
       "</table>\n",
       "</div>"
      ],
      "text/plain": [
       "   PassengerId  Survived\n",
       "0          892         0\n",
       "1          893         0\n",
       "2          894         0\n",
       "3          895         0\n",
       "4          896         0\n",
       "5          897         0\n",
       "6          898         1\n",
       "7          899         0\n",
       "8          900         1\n",
       "9          901         0"
      ]
     },
     "execution_count": 50,
     "metadata": {},
     "output_type": "execute_result"
    }
   ],
   "source": [
    "passenger_id=titanic_test[\"PassengerId\"]\n",
    "\n",
    "d1 = { 'PassengerId': passenger_id,'Survived': preds1} \n",
    "     \n",
    "prediction_df = pd.DataFrame(d1)\n",
    "prediction_df.head(10)"
   ]
  }
 ],
 "metadata": {
  "kernelspec": {
   "display_name": "Python 3",
   "language": "python",
   "name": "python3"
  },
  "language_info": {
   "codemirror_mode": {
    "name": "ipython",
    "version": 3
   },
   "file_extension": ".py",
   "mimetype": "text/x-python",
   "name": "python",
   "nbconvert_exporter": "python",
   "pygments_lexer": "ipython3",
   "version": "3.7.12"
  },
  "papermill": {
   "default_parameters": {},
   "duration": 841.328701,
   "end_time": "2022-05-19T16:47:15.525539",
   "environment_variables": {},
   "exception": null,
   "input_path": "__notebook__.ipynb",
   "output_path": "__notebook__.ipynb",
   "parameters": {},
   "start_time": "2022-05-19T16:33:14.196838",
   "version": "2.3.4"
  }
 },
 "nbformat": 4,
 "nbformat_minor": 5
}
