{
 "cells": [
  {
   "cell_type": "code",
   "execution_count": 1,
   "id": "c3f07f74-0fbc-4442-bc16-7271b2ca1a88",
   "metadata": {},
   "outputs": [],
   "source": [
    "import tensorflow as tf\n",
    "from tensorflow import keras"
   ]
  },
  {
   "cell_type": "code",
   "execution_count": 2,
   "id": "afb07d66-f116-4766-aea6-ba1909a93f76",
   "metadata": {},
   "outputs": [],
   "source": [
    "# Activation function Relu\n",
    "act = tf.nn.relu"
   ]
  },
  {
   "cell_type": "code",
   "execution_count": 3,
   "id": "602ff1b8-ecfe-44c8-b5a4-edd524ac96e8",
   "metadata": {},
   "outputs": [],
   "source": [
    "# covolutional block => conv+ ReLU+ BatchNormalization\n",
    "def dense_conv_block(input, feature_filter,filter_kernel,filter_kernel1,stride):\n",
    "    \n",
    "    x_in = keras.layers.Conv2D(feature_filter, filter_kernel, strides =stride, padding='same', activation=act)(input)\n",
    "    x_in = keras.layers.BatchNormalization()(x_in)\n",
    "\n",
    "    x = keras.layers.Conv2D(feature_filter, filter_kernel1, padding='same', activation=act)(x_in)\n",
    "    x = keras.layers.Conv2D(feature_filter, filter_kernel1, padding='same', activation=act)(x)\n",
    "    x = keras.layers.BatchNormalization( )(x)\n",
    "    x = keras.layers.add([x, x_in])\n",
    "    return x"
   ]
  },
  {
   "cell_type": "code",
   "execution_count": null,
   "id": "4eefac6a-edfa-451b-a997-a5379ef5b11d",
   "metadata": {},
   "outputs": [],
   "source": [
    "def build_model_128():\n",
    " \n",
    "    image_in = keras.Input(shape=(128, 128, 1))\n",
    "    Dconv_layer1 = dense_conv_block(image_in, 32,3,3,1)\n",
    "    Dconv_layer2 = dense_conv_block(Dconv_layer1, 64,2,3,2)\n",
    "    Dconv_layer3 = dense_conv_block(Dconv_layer2, 128,2,3,2)\n",
    "    Dconv_layer4 = dense_conv_block(Dconv_layer3, 256,2,3,2)   \n",
    "    # out 16 x 16 @256\n",
    "\n",
    "    Uconv_block4 = keras.layers.Conv2DTranspose(128, 2, 2, activation=act)(Dconv_layer4)\n",
    "    Uconv_block4 = keras.layers.BatchNormalization()(Uconv_block4)\n",
    "    # out  32x32 @ 128\n",
    "\n",
    "    # skip connection\n",
    "    Uconv_block4 = keras.layers.concatenate([Dconv_layer3, Uconv_block4])\n",
    "    Uconv_layer4 = dense_conv_block(Uconv_block4, 128,3,3,1)  \n",
    "    # out 8 x 8 @ 128\n",
    "\n",
    "    Uconv_block3 = keras.layers.Conv2DTranspose(64, 2, 2, activation=act)(Uconv_layer4)\n",
    "    Uconv_block3 = keras.layers.BatchNormalization()(Uconv_block3)\n",
    "    # out 16 x 16 @ 32\n",
    "\n",
    "    # skip connection\n",
    "    Uconv_block3 = keras.layers.concatenate([Uconv_block3, Dconv_layer2])\n",
    "    Uconv_layer3 = dense_conv_block(Uconv_block3, 64,3,3,1)\n",
    "    # out 16 x 16 @ 32\n",
    "\n",
    "    Uconv_block2 = keras.layers.Conv2DTranspose(32, 2, 2, activation=act)(Uconv_layer3)\n",
    "    Uconv_block2 = keras.layers.BatchNormalization()(Uconv_block2)\n",
    "    Uconv_block2 = keras.layers.concatenate([Uconv_block2, Dconv_layer1])\n",
    "     # skip connection\n",
    "    Uconv_layer2 = dense_conv_block(Uconv_block2, 32,3,3)\n",
    "    # out = 32 x 32 @ 64\n",
    "\n",
    "    # 1 x 1 conv\n",
    "    Uconv_layer1 = keras.layers.Conv2D(1, 3, padding='same', activation=keras.activations.sigmoid)(Uconv_layer2)\n",
    "    model = keras.Model(image_in, Uconv_layer1)\n",
    "\n",
    "    return model"
   ]
  }
 ],
 "metadata": {
  "kernelspec": {
   "display_name": "Python 3 (ipykernel)",
   "language": "python",
   "name": "python3"
  },
  "language_info": {
   "codemirror_mode": {
    "name": "ipython",
    "version": 3
   },
   "file_extension": ".py",
   "mimetype": "text/x-python",
   "name": "python",
   "nbconvert_exporter": "python",
   "pygments_lexer": "ipython3",
   "version": "3.9.12"
  }
 },
 "nbformat": 4,
 "nbformat_minor": 5
}
